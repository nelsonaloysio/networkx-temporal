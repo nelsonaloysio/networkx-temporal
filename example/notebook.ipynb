{
 "cells": [
  {
   "cell_type": "markdown",
   "metadata": {},
   "source": [
    "# networkx-temporal\n",
    "\n",
    "Python package to build and manipulate temporal NetworkX graphs ([PyPI](https://pypi.org/project/networkx-temporal/)/[GitHub](https://github.com/nelsonaloysio/networkx-temporal)/[Colab]((https://colab.research.google.com/github/nelsonaloysio/networkx-temporal/blob/main/example/notebook/notebook.ipynb)))."
   ]
  },
  {
   "cell_type": "code",
   "execution_count": null,
   "metadata": {},
   "outputs": [],
   "source": [
    "# !pip install -q matplotlib networkx networkx-temporal python-igraph"
   ]
  },
  {
   "cell_type": "code",
   "execution_count": null,
   "metadata": {},
   "outputs": [],
   "source": [
    "# %load_ext autoreload\n",
    "# %autoreload 2\n",
    "import networkx as nx\n",
    "import networkx_temporal as tx\n",
    "from networkx_temporal.tests.example import draw_temporal_graph"
   ]
  },
  {
   "cell_type": "markdown",
   "metadata": {},
   "source": [
    "___\n",
    "\n",
    "## Basics"
   ]
  },
  {
   "cell_type": "markdown",
   "metadata": {},
   "source": [
    "### Build temporal graph\n",
    "\n",
    "The `Temporal{Di,Multi,MultiDi}Graph` class uses NetworkX graphs internally to allow easy manipulation of its data structures:"
   ]
  },
  {
   "cell_type": "code",
   "execution_count": null,
   "metadata": {},
   "outputs": [],
   "source": [
    "TG = tx.TemporalDiGraph(t=4)\n",
    "\n",
    "TG[0].add_edge(\"a\", \"b\")\n",
    "TG[1].add_edge(\"c\", \"b\")\n",
    "TG[2].add_edge(\"d\", \"c\")\n",
    "TG[2].add_edge(\"d\", \"e\")\n",
    "TG[2].add_edge(\"a\", \"c\")\n",
    "TG[3].add_edge(\"f\", \"e\")\n",
    "TG[3].add_edge(\"f\", \"a\")\n",
    "TG[3].add_edge(\"f\", \"b\")\n",
    "\n",
    "print(TG)"
   ]
  },
  {
   "cell_type": "code",
   "execution_count": null,
   "metadata": {},
   "outputs": [],
   "source": [
    "print(f\"t = {len(TG)} time steps\\n\"\n",
    "      f\"V = {TG.order()} nodes ({TG.temporal_order()} unique, {TG.total_order()} total)\\n\"\n",
    "      f\"E = {TG.size()} edges ({TG.temporal_size()} unique, {TG.total_size()} total)\")"
   ]
  },
  {
   "cell_type": "code",
   "execution_count": null,
   "metadata": {},
   "outputs": [],
   "source": [
    "draw_temporal_graph(TG, figsize=(8, 2))"
   ]
  },
  {
   "cell_type": "markdown",
   "metadata": {},
   "source": [
    "### Slice into temporal bins\n",
    "\n",
    "Once initialized, a specified number of bins can be returned in a new object of the same type using `slice`:"
   ]
  },
  {
   "cell_type": "code",
   "execution_count": null,
   "metadata": {},
   "outputs": [],
   "source": [
    "TGS = TG.slice(bins=2)\n",
    "draw_temporal_graph(TGS, figsize=(4, 2))"
   ]
  },
  {
   "cell_type": "markdown",
   "metadata": {},
   "source": [
    "By default, created bins are composed of non-overlapping edges and might have uneven size. To balance them, pass `qcut=True`:"
   ]
  },
  {
   "cell_type": "code",
   "execution_count": null,
   "metadata": {},
   "outputs": [],
   "source": [
    "TGS = TG.slice(bins=2, qcut=True)\n",
    "draw_temporal_graph(TGS, figsize=(4, 2))"
   ]
  },
  {
   "cell_type": "markdown",
   "metadata": {},
   "source": [
    "Note that in some cases, `qcut` may not be able to split the graph into the number of bins requested and will instead return the maximum number of bins possible. Other exceptions can be worked around by setting `duplicates=True` to allow duplicate edges in bins, or `rank_first=True` to balance snapshots considering the order in which nodes or edges appear."
   ]
  },
  {
   "cell_type": "markdown",
   "metadata": {},
   "source": [
    "### Convert to directed or undirected\n",
    "\n",
    "We can easily convert the edge directions by calling the same methods available from `network`:"
   ]
  },
  {
   "cell_type": "code",
   "execution_count": null,
   "metadata": {},
   "outputs": [],
   "source": [
    "TG.to_undirected()"
   ]
  },
  {
   "cell_type": "code",
   "execution_count": null,
   "metadata": {},
   "outputs": [],
   "source": [
    "TG.to_directed()"
   ]
  },
  {
   "cell_type": "markdown",
   "metadata": {},
   "source": [
    "___\n",
    "\n",
    "## Common metrics\n",
    "\n",
    "All methods implemented by `networkx`, e.g., `degree`, are also available to be executed sequentially on the stored time slices.\n",
    "\n",
    "A few additional methods that consider all time slices are also implemented for convenience, e.g., `temporal_degree` and `temporal_neighbors`.\n",
    "\n",
    "### Degree centrality"
   ]
  },
  {
   "cell_type": "code",
   "execution_count": null,
   "metadata": {},
   "outputs": [],
   "source": [
    "TG.degree()\n",
    "# TG.in_degree()\n",
    "# TG.out_degree()"
   ]
  },
  {
   "cell_type": "code",
   "execution_count": null,
   "metadata": {},
   "outputs": [],
   "source": [
    "TG.temporal_degree()\n",
    "# TG.temporal_in_degree()\n",
    "# TG.temporal_out_degree()"
   ]
  },
  {
   "cell_type": "markdown",
   "metadata": {},
   "source": [
    "Or to obtain the degree of a specific node:"
   ]
  },
  {
   "cell_type": "code",
   "execution_count": null,
   "metadata": {},
   "outputs": [],
   "source": [
    "TG[0].degree(\"a\")\n",
    "# TG[0].in_degree(\"a\")\n",
    "# TG[0].out_degree(\"a\")"
   ]
  },
  {
   "cell_type": "code",
   "execution_count": null,
   "metadata": {},
   "outputs": [],
   "source": [
    "TG.temporal_degree(\"a\")\n",
    "# TG.temporal_in_degree(\"a\")\n",
    "# TG.temporal_out_degree(\"a\")"
   ]
  },
  {
   "cell_type": "markdown",
   "metadata": {},
   "source": [
    "### Node neighborhoods"
   ]
  },
  {
   "cell_type": "code",
   "execution_count": null,
   "metadata": {},
   "outputs": [],
   "source": [
    "TG.neighbors(\"c\")"
   ]
  },
  {
   "cell_type": "markdown",
   "metadata": {},
   "source": [
    "To obtain the temporal neighborhood of a node considering all time steps, use the method `temporal_neighbors`:"
   ]
  },
  {
   "cell_type": "code",
   "execution_count": null,
   "metadata": {},
   "outputs": [],
   "source": [
    "TG.temporal_neighbors(\"c\")"
   ]
  },
  {
   "cell_type": "markdown",
   "metadata": {},
   "source": [
    "### Order and size\n",
    "\n",
    "The temporal order and size are defined as the number of unique nodes and edges, respectively, across all time steps."
   ]
  },
  {
   "cell_type": "code",
   "execution_count": null,
   "metadata": {},
   "outputs": [],
   "source": [
    "TG.order(), TG.size()"
   ]
  },
  {
   "cell_type": "code",
   "execution_count": null,
   "metadata": {},
   "outputs": [],
   "source": [
    "TG.temporal_order(), TG.temporal_size()"
   ]
  },
  {
   "cell_type": "markdown",
   "metadata": {},
   "source": [
    "Note that we are also able to consider nodes or edges with distinct attributes as not unique by passing `data=True` to `temporal_{order,size}`.\n",
    "\n",
    "Lastly, to obtain the total (non-unique) number of nodes and edges across all time steps, we may use the `total_order` and `total_size` methods:"
   ]
  },
  {
   "cell_type": "code",
   "execution_count": null,
   "metadata": {},
   "outputs": [],
   "source": [
    "TG.total_order(), TG.total_size()  # sum(TG.order()), sum(TG.size())"
   ]
  },
  {
   "cell_type": "markdown",
   "metadata": {},
   "source": [
    "___\n",
    "\n",
    "## Convert from static to temporal graph\n",
    "\n",
    "Static graphs can also carry temporal information either in the node- or edge-level attributes. \n",
    "\n",
    "Slicing a graph into bins usually result in the same number of edges, but a higher number of nodes, as they may appear in more than one snapshot to preserve edge information.\n",
    "\n",
    "In the example below, we create a static multigraph in which both nodes and edges are attributed with the time step `t` in which they are observed:"
   ]
  },
  {
   "cell_type": "code",
   "execution_count": null,
   "metadata": {},
   "outputs": [],
   "source": [
    "G = nx.MultiDiGraph()\n",
    "\n",
    "G.add_nodes_from([\n",
    "    (\"a\", {\"t\": 0}),\n",
    "    (\"b\", {\"t\": 0}),\n",
    "    (\"c\", {\"t\": 1}),\n",
    "    (\"d\", {\"t\": 2}),\n",
    "    (\"e\", {\"t\": 3}),\n",
    "    (\"f\", {\"t\": 3}),\n",
    "])\n",
    "\n",
    "G.add_edges_from([\n",
    "    (\"a\", \"b\", {\"t\": 0}),\n",
    "    (\"c\", \"b\", {\"t\": 1}),\n",
    "    (\"d\", \"c\", {\"t\": 2}),\n",
    "    (\"d\", \"e\", {\"t\": 2}),\n",
    "    (\"a\", \"c\", {\"t\": 2}),\n",
    "    (\"f\", \"e\", {\"t\": 3}),\n",
    "    (\"f\", \"a\", {\"t\": 3}),\n",
    "    (\"f\", \"b\", {\"t\": 3}),\n",
    "])\n",
    "\n",
    "print(G)"
   ]
  },
  {
   "cell_type": "markdown",
   "metadata": {},
   "source": [
    "### Node-level time attributes\n",
    "\n",
    "Converting a static graph with node-level temporal data to a temporal graph object (`node_level` considers the source node's time by default when slicing edges):"
   ]
  },
  {
   "cell_type": "code",
   "execution_count": null,
   "metadata": {},
   "outputs": [],
   "source": [
    "TG = tx.from_static(G).slice(attr=\"t\", attr_level=\"node\", node_level=\"source\", bins=None, qcut=None)\n",
    "draw_temporal_graph(TG, figsize=(8, 2))"
   ]
  },
  {
   "cell_type": "markdown",
   "metadata": {},
   "source": [
    "Note that considering node-level attributes resulted in placing the edge `(a, c, 2)` in $t=0$ instead, as the source node `a` attribute is set to `t=0`:"
   ]
  },
  {
   "cell_type": "code",
   "execution_count": null,
   "metadata": {},
   "outputs": [],
   "source": [
    "G.nodes(data=True)[\"a\"]"
   ]
  },
  {
   "cell_type": "markdown",
   "metadata": {},
   "source": [
    "### Edge-level time attributes\n",
    "\n",
    "Converting a static graph with edge-level temporal data to a temporal graph object (edge's time applies to both source and target nodes):"
   ]
  },
  {
   "cell_type": "code",
   "execution_count": null,
   "metadata": {},
   "outputs": [],
   "source": [
    "TG = tx.from_static(G).slice(attr=\"t\", attr_level=\"edge\", bins=None, qcut=None)\n",
    "draw_temporal_graph(TG, figsize=(8, 2))"
   ]
  },
  {
   "cell_type": "markdown",
   "metadata": {},
   "source": [
    "In this case, considering edge-level attributes results in placing the edge `(a, c, 2)` in $t=2$, as expected."
   ]
  },
  {
   "cell_type": "markdown",
   "metadata": {},
   "source": [
    "___\n",
    "\n",
    "## Transform temporal graph\n",
    "\n",
    "Once a temporal graph is instantiated, some methods are implemented that allow converting it or returning snaphots, events or unified temporal graphs.\n",
    "\n",
    "- `to_static`: returns a single graph with all edges and unique nodes, does not support dynamic node attributes;\n",
    "- `to_unified`: returns a single graph with all edges and non-unique nodes, supports dynamic node attributes;\n",
    "- `to_snapshots`: returns a list of graphs with all edges and possibly repeated nodes, preserves edge information;\n",
    "- `to_events`: returns a list of observed events as 3-tuples or 4-tuples"
   ]
  },
  {
   "cell_type": "markdown",
   "metadata": {},
   "source": [
    "We may convert our graph to a different object type by calling `convert_to` or passing `to={package}`, provided the `package` is locally installed.\n",
    "\n",
    "Note that the above applies to the `to_static`, `to_snapshots`, and `to_unified` methods only. Supported formats include:\n",
    "\n",
    "- `dgl`\n",
    "- `graph_tool` (`gt`)\n",
    "- `igraph` (`ig`)\n",
    "- `networx` (`nx`)\n",
    "- `networkit` (`nk`)\n",
    "- `torch_geometric` (`pyg`)"
   ]
  },
  {
   "cell_type": "code",
   "execution_count": null,
   "metadata": {},
   "outputs": [],
   "source": [
    "tx.convert_to(G, \"igraph\")"
   ]
  },
  {
   "cell_type": "markdown",
   "metadata": {},
   "source": [
    "### Get static graph\n",
    "\n",
    "Builds a static or flattened graph containing all the edges found at each time step:"
   ]
  },
  {
   "cell_type": "code",
   "execution_count": null,
   "metadata": {},
   "outputs": [],
   "source": [
    "G = TG.to_static()\n",
    "draw_temporal_graph(G, suptitle=\"Static Graph\")"
   ]
  },
  {
   "cell_type": "markdown",
   "metadata": {},
   "source": [
    "### Get snapshots\n",
    "\n",
    "Returns a list of graphs internally stored under `data` in the temporal graph object, which may too be converted by passing `to={package}`:"
   ]
  },
  {
   "cell_type": "code",
   "execution_count": null,
   "metadata": {},
   "outputs": [],
   "source": [
    "STG = TG.to_snapshots()"
   ]
  },
  {
   "cell_type": "markdown",
   "metadata": {},
   "source": [
    "### Get unified temporal graph\n",
    "\n",
    "The unified temporal graph (UTG) is a single graph that contains the original data plus proxy nodes and edge couplings connecting sequential temporal nodes."
   ]
  },
  {
   "cell_type": "code",
   "execution_count": null,
   "metadata": {},
   "outputs": [],
   "source": [
    "UTG = TG.to_unified(add_couplings=True, add_proxy_nodes=False, proxy_nodes_with_attr=True, prune_proxy_nodes=True)  # node_index=G.nodes()\n",
    "print(UTG)"
   ]
  },
  {
   "cell_type": "code",
   "execution_count": null,
   "metadata": {},
   "outputs": [],
   "source": [
    "nodes = sorted(TG.temporal_nodes())\n",
    "pos = {node: (nodes.index(node.rsplit(\"_\")[0]), -int(node.rsplit(\"_\")[1])) for node in UTG.nodes()}\n",
    "draw_temporal_graph(UTG, pos=pos, figsize=(4, 4), connectionstyle=\"arc3,rad=0.25\", suptitle=\"Unified Temporal Graph\")"
   ]
  },
  {
   "cell_type": "markdown",
   "metadata": {},
   "source": [
    "### Get sequence of events\n",
    "\n",
    "An event-based temporal graph (ETG) is a sequence of 3- or 4-tuple edge-based events.\n",
    "\n",
    "* 3-tuples: `(u, v, t)`, where elements are the source node, target node, and time step of the observed event (also known as a stream graph);\n",
    "\n",
    "* 4-tuples: `(u, v, t, e)`, where `e` is either a positive (1) or negative (-1) unity for edge addition and deletion, respectively."
   ]
  },
  {
   "cell_type": "code",
   "execution_count": null,
   "metadata": {},
   "outputs": [],
   "source": [
    "ETG = TG.to_events()  # stream=True (default)\n",
    "ETG"
   ]
  },
  {
   "cell_type": "code",
   "execution_count": null,
   "metadata": {},
   "outputs": [],
   "source": [
    "ETG = TG.to_events(stream=False)\n",
    "ETG"
   ]
  },
  {
   "cell_type": "markdown",
   "metadata": {},
   "source": [
    "### Convert back to TemporalGraph object\n",
    "\n",
    "Functions to convert a newly created STG, ETG, or UTG back to a temporal graph object are also implemented."
   ]
  },
  {
   "cell_type": "code",
   "execution_count": null,
   "metadata": {},
   "outputs": [],
   "source": [
    "tx.from_snapshots(STG)"
   ]
  },
  {
   "cell_type": "code",
   "execution_count": null,
   "metadata": {},
   "outputs": [],
   "source": [
    "tx.from_events(ETG, directed=True, multigraph=True)"
   ]
  },
  {
   "cell_type": "code",
   "execution_count": null,
   "metadata": {},
   "outputs": [],
   "source": [
    "tx.from_unified(UTG)"
   ]
  },
  {
   "cell_type": "markdown",
   "metadata": {},
   "source": [
    "___\n",
    "\n",
    "## Detect temporal communities\n",
    "\n",
    "The [leidenalg](https://leidenalg.readthedocs.io) package implements community detection algorithms on snapshot-based temporal graphs.\n",
    "\n",
    "Depending on the objectives, temporal community detection may bring significant advantages on what comes to descriptive tasks and post-hoc network analysis.\n",
    "\n",
    "Let's first use the [Stochastic Block Model](https://networkx.org/documentation/stable/reference/generated/networkx.generators.community.stochastic_block_model.html) to construct a temporal graph of 4 snapshots, in which each of the five clusters of four nodes each continuously mix together:"
   ]
  },
  {
   "cell_type": "code",
   "execution_count": null,
   "metadata": {},
   "outputs": [],
   "source": [
    "snapshots = 4   # Temporal snapshots to creaete.\n",
    "clusters = 5    # Number of clusters/communities.\n",
    "order = 4       # Nodes in each cluster.\n",
    "intra = .95     # High probability of intra-community edges.\n",
    "inter = .05     # Low initial probability of inter-community edges.\n",
    "change = .25    # Change in intra- and inter-community edges over time.\n",
    "\n",
    "# Get probabilities for each snapshot.\n",
    "probs = [[[(intra if i == j else inter) + (t * (change/snapshots) * (-1 if i == j else 1))\n",
    "            for j in range(clusters)\n",
    "        ] for i in range(clusters)\n",
    "    ] for t in range(snapshots)]\n",
    "\n",
    "# Create graphs from probabilities.\n",
    "graphs = {}\n",
    "for t in range(snapshots):\n",
    "    graphs[t] = nx.stochastic_block_model(clusters*[order], probs[t], seed=10)\n",
    "    graphs[t].name = t\n",
    "\n",
    "# Create temporal graph from snapshots.\n",
    "TG = tx.from_snapshots(graphs)"
   ]
  },
  {
   "cell_type": "markdown",
   "metadata": {},
   "source": [
    "### Static community detection\n",
    "\n",
    "#### On the static graph (flattened)\n",
    "\n",
    "Running the Leiden algorithm on the static graph to obtain the community modules fails to retrieve the five communities in the network:"
   ]
  },
  {
   "cell_type": "code",
   "execution_count": null,
   "metadata": {},
   "outputs": [],
   "source": [
    "import leidenalg as la\n",
    "import matplotlib.pyplot as plt\n",
    "\n",
    "c = plt.cm.tab10.colors\n",
    "\n",
    "membership = la.find_partition(\n",
    "    TG.to_static(\"igraph\"),\n",
    "    la.ModularityVertexPartition,\n",
    "    n_iterations=-1,\n",
    "    seed=0,\n",
    ")\n",
    "\n",
    "\n",
    "node_color = [c[m] for m in membership.membership]\n",
    "\n",
    "draw_temporal_graph(TG.to_static(), figsize=(4, 4), node_color=node_color, suptitle=\"Static Communities\")"
   ]
  },
  {
   "cell_type": "markdown",
   "metadata": {},
   "source": [
    "We can plot all four generated snapshots, while keeping the community assignments from the previous run:"
   ]
  },
  {
   "cell_type": "code",
   "execution_count": null,
   "metadata": {},
   "outputs": [],
   "source": [
    "draw_temporal_graph(TG, figsize=(12, 4), node_color=node_color, suptitle=\"Static Communities\")"
   ]
  },
  {
   "cell_type": "markdown",
   "metadata": {},
   "source": [
    "Note that running the same algorithm on the unified temporal graph also yields no significant advantages in terms of correctly retrieving the five clusters."
   ]
  },
  {
   "cell_type": "markdown",
   "metadata": {},
   "source": [
    "#### On the snapshots (individually)\n",
    "\n",
    "Running the same algorithm on each of the generated snapshots instead retrieves the correct clusters on the first snapshot only.\n",
    "\n",
    "Although results may seem initially better, we lose the community indices previously assigned to nodes in previous snapshots, represented by their different colors:"
   ]
  },
  {
   "cell_type": "code",
   "execution_count": null,
   "metadata": {},
   "outputs": [],
   "source": [
    "temporal_opts = {}\n",
    "\n",
    "for t in range(len(TG)):\n",
    "    membership = la.find_partition(\n",
    "        TG[t:t+1].to_static(\"igraph\"),\n",
    "        la.ModularityVertexPartition,\n",
    "        n_iterations=-1,\n",
    "        seed=0,\n",
    "    )\n",
    "    temporal_opts[t] = {\n",
    "        \"node_color\": [c[m] for m in membership.membership]\n",
    "    }\n",
    "\n",
    "draw_temporal_graph(TG, nrows=1, ncols=4, figsize=(12, 4), suptitle=\"Snapshot Communities\", temporal_opts=temporal_opts)"
   ]
  },
  {
   "cell_type": "markdown",
   "metadata": {},
   "source": [
    "### Temporal community detection\n",
    "\n",
    "Detecting temporal communities instead allows us to correctly retrieve the clusters in all snapshots, while maintaining their indices/colors over time.\n",
    "\n",
    "The `interslice_weight` among temporal nodes in a sequence of snapshots defaults to `1.0` in unweighted graphs and may be adjusted accordingly:"
   ]
  },
  {
   "cell_type": "code",
   "execution_count": null,
   "metadata": {},
   "outputs": [],
   "source": [
    "temporal_membership, improvement = la.find_partition_temporal(\n",
    "    TG.to_snapshots(\"igraph\"),\n",
    "    la.ModularityVertexPartition,\n",
    "    interslice_weight=1.0,\n",
    "    n_iterations=-1,\n",
    "    seed=0,\n",
    "    vertex_id_attr=\"_nx_name\"\n",
    ")\n",
    "\n",
    "temporal_opts = {\n",
    "    t: {\"node_color\": [c[m] for m in temporal_membership[t]]}\n",
    "    for t in range(len(TG))\n",
    "}\n",
    "\n",
    "draw_temporal_graph(TG, nrows=1, ncols=4, figsize=(12, 4), suptitle=\"Temporal Communities\", temporal_opts=temporal_opts)"
   ]
  },
  {
   "cell_type": "markdown",
   "metadata": {},
   "source": [
    "___\n",
    "\n",
    "### References\n",
    "\n",
    "- [Deep Graph Library](https://www.dgl.ai/)\n",
    "- [graph-tool](https://graph-tool.skewed.de/)\n",
    "- [igraph](https://igraph.org/python/)\n",
    "- [Leiden](https://leidenalg.readthedocs.io)\n",
    "- [NetworKit]()\n",
    "- [NetworkX](https://networkx.github.io)\n",
    "- [Pandas](https://pandas.pydata.org/)\n",
    "- [PyTorch Geometric](https://pytorch-geometric.readthedocs.io)"
   ]
  }
 ],
 "metadata": {
  "kernelspec": {
   "display_name": "Python 3 (ipykernel)",
   "language": "python",
   "name": "python3"
  },
  "language_info": {
   "codemirror_mode": {
    "name": "ipython",
    "version": 3
   },
   "file_extension": ".py",
   "mimetype": "text/x-python",
   "name": "python",
   "nbconvert_exporter": "python",
   "pygments_lexer": "ipython3",
   "version": "3.11.5"
  }
 },
 "nbformat": 4,
 "nbformat_minor": 2
}

{
 "cells": [
  {
   "cell_type": "markdown",
   "metadata": {},
   "source": [
    "# networkx_temporal"
   ]
  },
  {
   "cell_type": "code",
   "execution_count": null,
   "metadata": {},
   "outputs": [],
   "source": [
    "import networkx as nx\n",
    "\n",
    "%load_ext autoreload\n",
    "%autoreload 2\n",
    "\n",
    "import networkx_temporal as nxt"
   ]
  },
  {
   "cell_type": "markdown",
   "metadata": {},
   "source": [
    "## Build temporal graph\n",
    "\n",
    "The `Temporal{Di,Multi,MultiDi}Graph` class uses NetworkX graphs internally to allow easy manipulation of its data structures:"
   ]
  },
  {
   "cell_type": "code",
   "execution_count": null,
   "metadata": {},
   "outputs": [],
   "source": [
    "TG = nxt.TemporalDiGraph(t=4)\n",
    "TG"
   ]
  },
  {
   "cell_type": "code",
   "execution_count": null,
   "metadata": {},
   "outputs": [],
   "source": [
    "TG[0].add_edge(\"a\", \"b\")\n",
    "TG[1].add_edge(\"c\", \"b\")\n",
    "TG[2].add_edge(\"c\", \"b\")\n",
    "TG[2].add_edge(\"d\", \"c\")\n",
    "TG[2].add_edge(\"d\", \"e\")\n",
    "TG[3].add_edge(\"f\", \"e\")\n",
    "TG[3].add_edge(\"f\", \"a\")\n",
    "TG[3].add_edge(\"f\", \"b\")"
   ]
  },
  {
   "cell_type": "code",
   "execution_count": null,
   "metadata": {},
   "outputs": [],
   "source": [
    "print(f\"t = {len(TG)} time steps\\n\"\n",
    "      f\"V = {TG.order()} nodes ({TG.temporal_order()} unique, {TG.total_order()} total)\\n\"\n",
    "      f\"E = {TG.size()} edges ({TG.temporal_size()} unique, {TG.total_size()} total)\")"
   ]
  },
  {
   "cell_type": "markdown",
   "metadata": {},
   "source": [
    "#### Draw snapshots"
   ]
  },
  {
   "cell_type": "code",
   "execution_count": null,
   "metadata": {},
   "outputs": [],
   "source": [
    "import matplotlib.pyplot as plt\n",
    "\n",
    "draw_opts = {\"arrows\": True,\n",
    "             \"node_color\": \"#aaa\",\n",
    "             \"node_size\": 250,\n",
    "             \"with_labels\": True}\n",
    "\n",
    "fig, ax = plt.subplots(nrows=1, ncols=4, figsize=(8, 2), constrained_layout=True)\n",
    "\n",
    "for t, G in enumerate(TG):\n",
    "    nx.draw(G, pos=nx.kamada_kawai_layout(G), ax=ax[t], **draw_opts)\n",
    "    ax[t].set_title(f\"$t$ = {t}\")\n",
    "\n",
    "plt.show()"
   ]
  },
  {
   "cell_type": "markdown",
   "metadata": {},
   "source": [
    "### Slice into time bins\n",
    "\n",
    "Once initialized, a specified number of bins can be returned in a new object of the same type using `slice`:"
   ]
  },
  {
   "cell_type": "code",
   "execution_count": null,
   "metadata": {},
   "outputs": [],
   "source": [
    "TGS = TG.slice(bins=2)\n",
    "TGS.nodes()"
   ]
  },
  {
   "cell_type": "markdown",
   "metadata": {},
   "source": [
    "By default, created bins are composed of non-overlapping edges and might have uneven size. To balance them, pass `qcut=True`:"
   ]
  },
  {
   "cell_type": "code",
   "execution_count": null,
   "metadata": {},
   "outputs": [],
   "source": [
    "TGS = TG.slice(bins=2, qcut=True)\n",
    "TGS.nodes()"
   ]
  },
  {
   "cell_type": "markdown",
   "metadata": {},
   "source": [
    "Note that in some cases, the `qcut` method may not be able to split the graph into the number of bins requested and will return the maximum number of bins possible. Additionally, either `duplicates=True` (allows duplicate edges among bins) or `rank_first=True` (ranks edges in order of appearance) may be used to avoid exceptions."
   ]
  },
  {
   "cell_type": "markdown",
   "metadata": {},
   "source": [
    "___\n",
    "\n",
    "### Convert from static graph\n",
    "\n",
    "Static graphs can carry temporal information either in the node- or edge-level attributes.\n",
    "\n",
    "In the example below, we create a static multigraph in which both nodes and edges are attributed with the time step `t` in which they are observed:"
   ]
  },
  {
   "cell_type": "code",
   "execution_count": null,
   "metadata": {},
   "outputs": [],
   "source": [
    "G = nx.MultiDiGraph()\n",
    "\n",
    "G.add_nodes_from([\n",
    "    (\"a\", {\"t\": 0}),\n",
    "    (\"b\", {\"t\": 0}),\n",
    "    (\"c\", {\"t\": 1}),\n",
    "    (\"d\", {\"t\": 2}),\n",
    "    (\"e\", {\"t\": 3}),\n",
    "    (\"f\", {\"t\": 3}),\n",
    "])\n",
    "\n",
    "G.add_edges_from([\n",
    "    (\"a\", \"b\", {\"t\": 0}),\n",
    "    (\"c\", \"b\", {\"t\": 1}),\n",
    "    (\"d\", \"c\", {\"t\": 2}),\n",
    "    (\"d\", \"e\", {\"t\": 2}),\n",
    "    (\"c\", \"b\", {\"t\": 2}),\n",
    "    (\"f\", \"e\", {\"t\": 3}),\n",
    "    (\"f\", \"a\", {\"t\": 3}),\n",
    "    (\"f\", \"b\", {\"t\": 3}),\n",
    "])\n",
    "\n",
    "print(G)"
   ]
  },
  {
   "cell_type": "markdown",
   "metadata": {},
   "source": [
    "#### Node-level time attribute"
   ]
  },
  {
   "cell_type": "markdown",
   "metadata": {},
   "source": [
    "Converting a static graph with node-level temporal data to a temporal graph object (`node_level` considers the source node's time by default when slicing edges):"
   ]
  },
  {
   "cell_type": "code",
   "execution_count": null,
   "metadata": {},
   "outputs": [],
   "source": [
    "TG = nxt.from_static(G).slice(attr=\"t\", attr_level=\"node\", node_level=\"source\", bins=None, qcut=None)\n",
    "TG.edges(data=True)"
   ]
  },
  {
   "cell_type": "markdown",
   "metadata": {},
   "source": [
    "Note that considering node-level attributes resulted in misplacing the edge `(c, b, 2)` in the conversion from static to temporal, as it is duplicated at times 1 and 2."
   ]
  },
  {
   "cell_type": "markdown",
   "metadata": {},
   "source": [
    "#### Edge-level time attribute"
   ]
  },
  {
   "cell_type": "markdown",
   "metadata": {},
   "source": [
    "Converting a static graph with edge-level temporal data to a temporal graph object (edge's time applies to both source and target nodes):"
   ]
  },
  {
   "cell_type": "code",
   "execution_count": null,
   "metadata": {},
   "outputs": [],
   "source": [
    "TG = nxt.from_static(G).slice(attr=\"t\", attr_level=\"edge\", bins=None, qcut=None)\n",
    "TG.edges(data=True)"
   ]
  },
  {
   "cell_type": "markdown",
   "metadata": {},
   "source": [
    "Both methods result in the same number of edges, but a higher number of nodes, as they appear in more than one bin in order to preserve all edges in the static graph."
   ]
  },
  {
   "cell_type": "markdown",
   "metadata": {},
   "source": [
    "___\n",
    "\n",
    "## Transform temporal graph\n",
    "\n",
    "Once a temporal graph is instantiated, some methods are implemented that allow returning snaphots, events or unified temporal graphs.\n",
    "\n",
    "### Get snapshots\n",
    "\n",
    "Returns a list of graphs internally stored under `_data` in the temporal graph object, also accessible by iterating through the object:"
   ]
  },
  {
   "cell_type": "code",
   "execution_count": null,
   "metadata": {},
   "outputs": [],
   "source": [
    "STG = TG.to_snapshots()\n",
    "STG"
   ]
  },
  {
   "cell_type": "code",
   "execution_count": null,
   "metadata": {},
   "outputs": [],
   "source": [
    "TG.to_snapshots() == TG._data"
   ]
  },
  {
   "cell_type": "markdown",
   "metadata": {},
   "source": [
    "### Get static graph\n",
    "\n",
    "Builds a static or flattened graph containing all the edges found at each time step."
   ]
  },
  {
   "cell_type": "code",
   "execution_count": null,
   "metadata": {},
   "outputs": [],
   "source": [
    "G = TG.to_static()\n",
    "fig = plt.figure(figsize=(2, 2))\n",
    "nx.draw(G, pos=nx.kamada_kawai_layout(G), **draw_opts)\n",
    "plt.show()"
   ]
  },
  {
   "cell_type": "markdown",
   "metadata": {},
   "source": [
    "Note that the above graph is a `MultiGraph`, but the visualization is a simple graph drawing a single edge among each node pair."
   ]
  },
  {
   "cell_type": "code",
   "execution_count": null,
   "metadata": {},
   "outputs": [],
   "source": [
    "G.size() == TG.total_size()"
   ]
  },
  {
   "cell_type": "markdown",
   "metadata": {},
   "source": [
    "### Get sequence of events\n",
    "\n",
    "An event-based temporal graph (ETG) is a sequence of 3- or 4-tuple edge-based events.\n",
    "\n",
    "* 3-tuples: `(u, v, t)`, where elements are the source node, target node, and time step of the observed event (also known as a stream graph);\n",
    "\n",
    "* 4-tuples: `(u, v, t, e)`, where `e` is either a positive (1) or negative (-1) unity for edge addition and deletion, respectively."
   ]
  },
  {
   "cell_type": "code",
   "execution_count": null,
   "metadata": {},
   "outputs": [],
   "source": [
    "ETG = TG.to_events()  # stream=True (default)\n",
    "ETG"
   ]
  },
  {
   "cell_type": "code",
   "execution_count": null,
   "metadata": {},
   "outputs": [],
   "source": [
    "ETG = TG.to_events(stream=False)\n",
    "ETG"
   ]
  },
  {
   "cell_type": "markdown",
   "metadata": {},
   "source": [
    "### Get unified temporal graph\n",
    "\n",
    "The unified temporal graph (UTG) is a single graph that contains the original data plus proxy nodes and edge couplings connecting sequential temporal nodes."
   ]
  },
  {
   "cell_type": "code",
   "execution_count": null,
   "metadata": {},
   "outputs": [],
   "source": [
    "UTG = TG.to_unified(add_couplings=True, add_proxy_nodes=False, proxy_nodes_with_attr=True, prune_proxy_nodes=True)  # node_index=G.nodes()\n",
    "print(UTG)"
   ]
  },
  {
   "cell_type": "code",
   "execution_count": null,
   "metadata": {},
   "outputs": [],
   "source": [
    "TG.nodes()"
   ]
  },
  {
   "cell_type": "code",
   "execution_count": null,
   "metadata": {},
   "outputs": [],
   "source": [
    "TG.temporal_nodes()"
   ]
  },
  {
   "cell_type": "code",
   "execution_count": null,
   "metadata": {},
   "outputs": [],
   "source": [
    "nodes = sorted(TG.temporal_nodes())\n",
    "pos = {\n",
    "    node: (nodes.index(node.rsplit(\"_\")[0]), -int(node.rsplit(\"_\")[1]))\n",
    "    for node in UTG.nodes()\n",
    "}\n",
    "fig = plt.figure(figsize=(4, 4))\n",
    "nx.draw(UTG, pos=pos, connectionstyle=\"arc3,rad=0.25\", **draw_opts)\n",
    "plt.show()"
   ]
  },
  {
   "cell_type": "markdown",
   "metadata": {},
   "source": [
    "### Convert back to TemporalGraph object\n",
    "\n",
    "Functions to convert a newly created STG, ETG, or UTG back to a temporal graph object are also implemented."
   ]
  },
  {
   "cell_type": "code",
   "execution_count": null,
   "metadata": {},
   "outputs": [],
   "source": [
    "nxt.from_snapshots(STG)"
   ]
  },
  {
   "cell_type": "code",
   "execution_count": null,
   "metadata": {},
   "outputs": [],
   "source": [
    "nxt.from_events(ETG, directed=True, multigraph=False)"
   ]
  },
  {
   "cell_type": "code",
   "execution_count": null,
   "metadata": {},
   "outputs": [],
   "source": [
    "nxt.from_unified(UTG)"
   ]
  },
  {
   "cell_type": "markdown",
   "metadata": {},
   "source": [
    "___\n",
    "\n",
    "## Get temporal information\n",
    "\n",
    "All methods implemented by `networkx`, e.g., `degree`, are also available to be executed sequentially on the stored time slices.\n",
    "\n",
    "A few additional methods that consider all time slices are also implemented for convenience, e.g., `temporal_degree`.\n",
    "\n",
    "### Node degrees"
   ]
  },
  {
   "cell_type": "code",
   "execution_count": null,
   "metadata": {},
   "outputs": [],
   "source": [
    "TG.degree()\n",
    "# TG.in_degree()\n",
    "# TG.out_degree()"
   ]
  },
  {
   "cell_type": "markdown",
   "metadata": {},
   "source": [
    "To obtain the degrees of nodes at a specific time step, use the `degree` method with the temporal graph index:"
   ]
  },
  {
   "cell_type": "code",
   "execution_count": null,
   "metadata": {},
   "outputs": [],
   "source": [
    "TG[0].degree()\n",
    "# TG[0].degree(\"a\")"
   ]
  },
  {
   "cell_type": "markdown",
   "metadata": {},
   "source": [
    "And to obtain the degree of all nodes or a specific node considering all time steps:"
   ]
  },
  {
   "cell_type": "code",
   "execution_count": null,
   "metadata": {},
   "outputs": [],
   "source": [
    "TG.temporal_degree()\n",
    "# TG.temporal_in_degree()\n",
    "# TG.temporal_out_degree()"
   ]
  },
  {
   "cell_type": "code",
   "execution_count": null,
   "metadata": {},
   "outputs": [],
   "source": [
    "TG.temporal_degree(\"a\")\n",
    "# TG.temporal_in_degree(\"a\")\n",
    "# TG.temporal_out_degree(\"a\")"
   ]
  },
  {
   "cell_type": "markdown",
   "metadata": {},
   "source": [
    "### Node neighborhoods"
   ]
  },
  {
   "cell_type": "code",
   "execution_count": null,
   "metadata": {},
   "outputs": [],
   "source": [
    "TG.neighbors(\"c\")"
   ]
  },
  {
   "cell_type": "markdown",
   "metadata": {},
   "source": [
    "To obtain the temporal neighborhood of a node considering all time steps, use the method `temporal_neighbors`:"
   ]
  },
  {
   "cell_type": "code",
   "execution_count": null,
   "metadata": {},
   "outputs": [],
   "source": [
    "TG.temporal_neighbors(\"c\")"
   ]
  },
  {
   "cell_type": "markdown",
   "metadata": {},
   "source": [
    "### Order and size"
   ]
  },
  {
   "cell_type": "code",
   "execution_count": null,
   "metadata": {},
   "outputs": [],
   "source": [
    "TG.order(), TG.size()"
   ]
  },
  {
   "cell_type": "markdown",
   "metadata": {},
   "source": [
    "Note that the temporal order and size are defined as the number of unique nodes and edges, respectively, across all time steps:"
   ]
  },
  {
   "cell_type": "code",
   "execution_count": null,
   "metadata": {},
   "outputs": [],
   "source": [
    "TG.temporal_order(), TG.temporal_size()"
   ]
  },
  {
   "cell_type": "markdown",
   "metadata": {},
   "source": [
    "To consider nodes or edges with distinct attributes as non-unique, pass `data=True`:"
   ]
  },
  {
   "cell_type": "code",
   "execution_count": null,
   "metadata": {},
   "outputs": [],
   "source": [
    "TG.temporal_order(data=True), TG.temporal_size(data=True)"
   ]
  },
  {
   "cell_type": "markdown",
   "metadata": {},
   "source": [
    "And to obtain the total number of nodes and edges across all time steps, use the `total_order` and `total_size` methods instead:"
   ]
  },
  {
   "cell_type": "code",
   "execution_count": null,
   "metadata": {},
   "outputs": [],
   "source": [
    "TG.total_order(), TG.total_size()  # sum(TG.order()), sum(TG.size())"
   ]
  },
  {
   "cell_type": "markdown",
   "metadata": {},
   "source": [
    "___\n",
    "\n",
    "### References\n",
    "\n",
    "* [NetworkX](https://networkx.github.io)\n",
    "* [Pandas](https://pandas.pydata.org/)"
   ]
  }
 ],
 "metadata": {
  "kernelspec": {
   "display_name": "Python 3 (ipykernel)",
   "language": "python",
   "name": "python3"
  },
  "language_info": {
   "codemirror_mode": {
    "name": "ipython",
    "version": 3
   },
   "file_extension": ".py",
   "mimetype": "text/x-python",
   "name": "python",
   "nbconvert_exporter": "python",
   "pygments_lexer": "ipython3",
   "version": "3.11.7"
  }
 },
 "nbformat": 4,
 "nbformat_minor": 2
}

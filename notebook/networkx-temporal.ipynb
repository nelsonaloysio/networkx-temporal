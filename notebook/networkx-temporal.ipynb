{
 "cells": [
  {
   "cell_type": "markdown",
   "metadata": {},
   "source": [
    "networkx-temporal\n",
    "---\n",
    "\n",
    "**[PyPI package](https://pypi.org/p/networkx-temporal/)** | **[Documentation](https://networkx-temporal.readthedocs.io/en/latest)** | **[GitHub repository](https://github.com/nelsonaloysio/networkx-temporal)**\n"
   ]
  },
  {
   "cell_type": "code",
   "execution_count": null,
   "metadata": {},
   "outputs": [],
   "source": [
    "!pip install -q leidenalg matplotlib networkx networkx-temporal python-igraph"
   ]
  },
  {
   "cell_type": "code",
   "execution_count": null,
   "metadata": {},
   "outputs": [],
   "source": [
    "# %load_ext autoreload\n",
    "# %autoreload 2\n",
    "import networkx as nx\n",
    "import networkx_temporal as tx"
   ]
  },
  {
   "cell_type": "markdown",
   "metadata": {},
   "source": [
    "___\n",
    "\n",
    "# Basic operations\n",
    "\n",
    "The examples below cover the package's basic functionalities, including\n",
    "how to build a temporal graph, slice it into snapshots, and save and\n",
    "load the resulting objects to disk."
   ]
  },
  {
   "cell_type": "markdown",
   "metadata": {},
   "source": [
    "## Build temporal graph\n",
    "\n",
    "The main class of the package is the [`TemporalGraph`](https://networkx-temporal.readthedocs.io/en/latest/api/classes.html#networkx_temporal.TemporalGraph)\n",
    "object, which extends [NetworkX's\n",
    "graphs](https://networkx.org/documentation/stable/reference/classes/index.html)\n",
    "to handle temporal data. Let's start by creating a simple directed graph\n",
    "using `time` as attribute key:"
   ]
  },
  {
   "cell_type": "code",
   "execution_count": null,
   "metadata": {},
   "outputs": [],
   "source": [
    "import networkx_temporal as tx\n",
    "\n",
    "TG = tx.TemporalGraph(directed=True, multigraph=False)\n",
    "\n",
    "TG.add_edge(\"a\", \"b\", time=0)\n",
    "TG.add_edge(\"c\", \"b\", time=1)\n",
    "TG.add_edge(\"d\", \"c\", time=2)\n",
    "TG.add_edge(\"d\", \"e\", time=2)\n",
    "TG.add_edge(\"a\", \"c\", time=2)\n",
    "TG.add_edge(\"f\", \"e\", time=3)\n",
    "TG.add_edge(\"f\", \"a\", time=3)\n",
    "TG.add_edge(\"f\", \"b\", time=3)\n",
    "\n",
    "TG"
   ]
  },
  {
   "cell_type": "markdown",
   "metadata": {},
   "source": [
    "Note that the resulting graph object reports a single time step `t=1`,\n",
    "as it has not yet been [sliced](#slice-temporal-graph).\n"
   ]
  },
  {
   "cell_type": "markdown",
   "metadata": {},
   "source": [
    "> **Note:**\n",
    "> Multigraphs are particularly useful to represent temporal graphs, as it\n",
    "> allows to store multiple interactions between the same nodes at\n",
    "> different time steps within a single graph object. This behavior can be\n",
    "> changed by setting `multigraph=False` when creating the\n",
    "> [`TemporalGraph`](https://networkx-temporal.readthedocs.io/en/latest/api/classes.html#networkx_temporal.TemporalGraph) object."
   ]
  },
  {
   "cell_type": "markdown",
   "metadata": {},
   "source": [
    "### From a static graph\n",
    "\n",
    "Static graphs may too carry temporal information in both node- and\n",
    "edge-level attributes.\n",
    "\n",
    "Slicing a graph into bins usually result in the same number of edges,\n",
    "but a higher number of nodes, as they may appear in more than one\n",
    "snapshot. In the example below, we create a static multigraph in which\n",
    "both nodes and edges are attributed with the time step in which they are\n",
    "observed:"
   ]
  },
  {
   "cell_type": "code",
   "execution_count": null,
   "metadata": {},
   "outputs": [],
   "source": [
    "G = nx.DiGraph()\n",
    "\n",
    "G.add_nodes_from([\n",
    "    (\"a\", {\"time\": 0}),\n",
    "    (\"b\", {\"time\": 0}),\n",
    "    (\"c\", {\"time\": 1}),\n",
    "    (\"d\", {\"time\": 2}),\n",
    "    (\"e\", {\"time\": 3}),\n",
    "    (\"f\", {\"time\": 3}),\n",
    "])\n",
    "\n",
    "G.add_edges_from([\n",
    "    (\"a\", \"b\", {\"time\": 0}),\n",
    "    (\"c\", \"b\", {\"time\": 1}),\n",
    "    (\"d\", \"c\", {\"time\": 2}),\n",
    "    (\"d\", \"e\", {\"time\": 2}),\n",
    "    (\"a\", \"c\", {\"time\": 2}),\n",
    "    (\"f\", \"e\", {\"time\": 3}),\n",
    "    (\"f\", \"a\", {\"time\": 3}),\n",
    "    (\"f\", \"b\", {\"time\": 3}),\n",
    "])\n",
    "\n",
    "G"
   ]
  },
  {
   "cell_type": "markdown",
   "metadata": {},
   "source": [
    "#### Edge-level time attribute\n",
    "\n",
    "Converting a static graph with edge-level temporal data to a temporal\n",
    "graph object:\n"
   ]
  },
  {
   "cell_type": "code",
   "execution_count": null,
   "metadata": {},
   "outputs": [],
   "source": [
    "TG = tx.from_static(G).slice(attr=\"time\")\n",
    "tx.draw(TG, layout=\"kamada_kawai\", figsize=(8, 2))"
   ]
  },
  {
   "cell_type": "markdown",
   "metadata": {},
   "source": [
    "The resulting temporal graph has the same number of edges as the\n",
    "original graph, but a higher number of nodes. This is expected, as the\n",
    "same nodes appear in more than one snapshot.\n"
   ]
  },
  {
   "cell_type": "markdown",
   "metadata": {},
   "source": [
    "> **Note:**\n",
    "> By default, [`slice`](https://networkx-temporal.readthedocs.io/en/latest/api/classes.html#networkx_temporal.TemporalGraph.slice) considers `attr` as\n",
    "> an edge-level attribute, which is usually the case for temporal data.\n",
    "> This behavior can be changed by setting `attr_level='node'`, as seen below."
   ]
  },
  {
   "cell_type": "markdown",
   "metadata": {},
   "source": [
    "#### Node-level time attribute\n",
    "\n",
    "Converting a static graph with node-level temporal data to a temporal\n",
    "graph object:\n"
   ]
  },
  {
   "cell_type": "code",
   "execution_count": null,
   "metadata": {},
   "outputs": [],
   "source": [
    "TG = tx.from_static(G).slice(attr=\"time\", attr_level=\"node\")\n",
    "tx.draw(TG, layout=\"kamada_kawai\", figsize=(8, 2))"
   ]
  },
  {
   "cell_type": "markdown",
   "metadata": {},
   "source": [
    "Note that even though the edge $(a, c)$ contains the attribute `time=2`,\n",
    "considering node-level attributes resulted in it being placed at $t=0$\n",
    "instead, as the source node $a$ is set to `time=0`:"
   ]
  },
  {
   "cell_type": "code",
   "execution_count": null,
   "metadata": {},
   "outputs": [],
   "source": [
    "G.nodes(data=\"time\")[\"a\"]"
   ]
  },
  {
   "cell_type": "markdown",
   "metadata": {},
   "source": [
    "> By default, the source node's temporal attribute is used to determine\n",
    "> the time step of an edge with `attr_level='node'`. This behavior can be\n",
    "> changed by setting `node_level='target'` instead."
   ]
  },
  {
   "cell_type": "markdown",
   "metadata": {},
   "source": [
    "## Slice temporal graph\n",
    "\n",
    "Let's use the [`slice`](https://networkx-temporal.readthedocs.io/en/latest/api/classes.html#networkx_temporal.TemporalGraph.slice) method to split\n",
    "the temporal graph we created into a number of snapshots:\n"
   ]
  },
  {
   "cell_type": "code",
   "execution_count": null,
   "metadata": {},
   "outputs": [],
   "source": [
    "TG = TG.slice(attr=\"time\")\n",
    "TG"
   ]
  },
  {
   "cell_type": "markdown",
   "metadata": {},
   "source": [
    "Inspecting the resulting object's properties can be achieved with some\n",
    "familiar methods:\n"
   ]
  },
  {
   "cell_type": "code",
   "execution_count": null,
   "metadata": {},
   "outputs": [],
   "source": [
    "print(f\"t = {len(TG)} time steps\\n\"\n",
    "      f\"V = {TG.order()} nodes ({TG.temporal_order()} unique, {TG.total_nodes()} total)\\n\"\n",
    "      f\"E = {TG.size()} edges ({TG.temporal_size()} unique, {TG.total_edges()} total)\")"
   ]
  },
  {
   "cell_type": "markdown",
   "metadata": {},
   "source": [
    "We may now visualize the resulting snapshots using the\n",
    "[`draw`](https://networkx-temporal.readthedocs.io/en/latest/api/functions.html#networkx_temporal.draw) function:"
   ]
  },
  {
   "cell_type": "code",
   "execution_count": null,
   "metadata": {},
   "outputs": [],
   "source": [
    "tx.draw(TG, layout=\"kamada_kawai\", figsize=(8, 2))\n"
   ]
  },
  {
   "cell_type": "markdown",
   "metadata": {},
   "source": [
    "### Specifying number of snapshots\n",
    "\n",
    "A new object can be created with a specific number of snapshots by\n",
    "setting the `bins` parameter:"
   ]
  },
  {
   "cell_type": "code",
   "execution_count": null,
   "metadata": {},
   "outputs": [],
   "source": [
    "TG = TG.slice(attr=\"time\", bins=2)\n",
    "tx.draw(TG, layout=\"kamada_kawai\", figsize=(4, 2), names=True)"
   ]
  },
  {
   "cell_type": "markdown",
   "metadata": {},
   "source": [
    "> **Hint:**\n",
    "> Set ``names=True`` to use the [`names`](https://networkx-temporal.readthedocs.io/en/latest/api/classes.html#networkx_temporal.TemporalGraph.names) property as subplot\n",
    "> titles, instead of their indices. By default, [`slice`](https://networkx-temporal.readthedocs.io/en/latest/api/classes.html#networkx_temporal.TemporalGraph.slice)\n",
    "> returns the interval of the resulting temporal snapshots as their names."
   ]
  },
  {
   "cell_type": "markdown",
   "metadata": {},
   "source": [
    "### Considering quantiles\n",
    "\n",
    "By default, created bins are composed of non-overlapping edges and might\n",
    "have uneven order and/or size. To try and balance them using quantiles,\n",
    "pass `qcut=True` (see\n",
    "[pandas.qcut](https://pandas.pydata.org/pandas-docs/stable/reference/api/pandas.qcut.html)\n",
    "for details):"
   ]
  },
  {
   "cell_type": "code",
   "execution_count": null,
   "metadata": {},
   "outputs": [],
   "source": [
    "TG = TG.slice(attr=\"time\", bins=2, qcut=True)\n",
    "tx.draw(TG, layout=\"kamada_kawai\", figsize=(4, 2), names=True)"
   ]
  },
  {
   "cell_type": "markdown",
   "metadata": {},
   "source": [
    "Though not perfectly balanced due to node $a$ appearing multiple times\n",
    "(in $t={1,2,3}$), the resulting snapshots have a more even number of\n",
    "edges. Results are expected to vary in a case-by-case basis.\n"
   ]
  },
  {
   "cell_type": "markdown",
   "metadata": {},
   "source": [
    "### Ranking nodes or edges\n",
    "\n",
    "Forcing a number of bins can be achieved by setting `rank_first=True`,\n",
    "ranking nodes or edges by their order of appearance in the original\n",
    "graph (see\n",
    "[pandas.Series.rank](https://pandas.pydata.org/pandas-docs/stable/reference/api/pandas.Series.rank.html)\n",
    "for details):\n"
   ]
  },
  {
   "cell_type": "code",
   "execution_count": null,
   "metadata": {},
   "outputs": [],
   "source": [
    "TG = TG.slice(attr=\"time\", bins=2, rank_first=True)\n",
    "tx.draw(TG, layout=\"kamada_kawai\", figsize=(4, 2), names=True)"
   ]
  },
  {
   "cell_type": "markdown",
   "metadata": {},
   "source": [
    "Notice how the intervals in each snapshot title now refer to the edges: $e_0$ to\n",
    "$e_3$ and $e_4$ to $e_7$. As the `time` attribute is here located at the edge\n",
    "level, the two snapshots have half of all edges each. In case of node-level times, the number of nodes\n",
    "in each snapshot would be more evenly distributed."
   ]
  },
  {
   "cell_type": "markdown",
   "metadata": {},
   "source": [
    "> **Note:**\n",
    "> In some cases, it may still not be able to split the graph into the\n",
    "> number of snapshots specified by `bins` (e.g., due to insufficient\n",
    "> data), so the maximum possible number is returned instead."
   ]
  },
  {
   "cell_type": "markdown",
   "metadata": {},
   "source": [
    "## Save and load data\n",
    "\n",
    "Temporal graphs may be read from or written to a file using the\n",
    "following functions:\n"
   ]
  },
  {
   "cell_type": "code",
   "execution_count": null,
   "metadata": {},
   "outputs": [],
   "source": [
    "tx.write_graph(TG, \"temporal_graph.graphml.zip\")\n",
    "TG = tx.read_graph(\"temporal_graph.graphml.zip\")"
   ]
  },
  {
   "cell_type": "markdown",
   "metadata": {},
   "source": [
    "Supported formats will be automatically detected based on the file\n",
    "extension. For details on the methods, please refer to their respective\n",
    "documentation: [`read_graph`](https://networkx-temporal.readthedocs.io/en/latest/api/functions.html#networkx_temporal.read_graph) and\n",
    "[`write_graph`](https://networkx-temporal.readthedocs.io/en/latest/api/functions.html#networkx_temporal.write_graph).\n",
    "\n",
    "> **See also:**\n",
    "> The [read and write\n",
    "> documentation](https://networkx.org/documentation/stable/reference/readwrite/index.html)\n",
    "> from NetworkX for a list of supported graph formats."
   ]
  },
  {
   "cell_type": "markdown",
   "metadata": {},
   "source": [
    "## Edge direction\n",
    "\n",
    "Similar to static NetworkX graphs, edges in a temporal graph can be\n",
    "easily transformed into directed or undirected by calling the\n",
    "`to_directed` or `to_undirected`\n",
    "methods, respectively:"
   ]
  },
  {
   "cell_type": "code",
   "execution_count": null,
   "metadata": {},
   "outputs": [],
   "source": [
    "TG.to_undirected()"
   ]
  },
  {
   "cell_type": "code",
   "execution_count": null,
   "metadata": {},
   "outputs": [],
   "source": [
    "TG.to_directed()"
   ]
  },
  {
   "cell_type": "markdown",
   "metadata": {},
   "source": [
    "As the methods return new objects, the original graph remains unchanged.\n",
    "Note that most methods available in the [NetworkX\n",
    "graphs](https://networkx.org/documentation/stable/reference/classes/graph.html#networkx.Graph)\n",
    "can be called directly from the [`TemporalGraph`](https://networkx-temporal.readthedocs.io/en/latest/api/classes.html#networkx_temporal.TemporalGraph)\n",
    "object as well."
   ]
  },
  {
   "cell_type": "markdown",
   "metadata": {},
   "source": [
    "___\n",
    "\n",
    "# Convert and transform\n",
    "\n",
    "The package provides a set of functions to convert to different graph\n",
    "formats and representations. In this context, \"converting\" refers to\n",
    "changing the underlying graph object type, e.g.\n",
    "[igraph](https://igraph.org). while \"transforming\" refers to changing\n",
    "the graph representation, e.g., [event-based temporal\n",
    "graphs](#event-based-temporal-graph)."
   ]
  },
  {
   "cell_type": "markdown",
   "metadata": {},
   "source": [
    "## Graph formats\n",
    "\n",
    "Graphs may be converted to a different object type by calling\n",
    "[`convert`](https://networkx-temporal.readthedocs.io/en/latest/api/functions.html#networkx_temporal.convert) with the desired format:"
   ]
  },
  {
   "cell_type": "code",
   "execution_count": null,
   "metadata": {},
   "outputs": [],
   "source": [
    "import networkx_temporal as tx\n",
    "\n",
    "TG = tx.TemporalGraph(directed=True, multigraph=False)\n",
    "\n",
    "TG.add_edge(\"a\", \"b\", time=0)\n",
    "TG.add_edge(\"c\", \"b\", time=1)\n",
    "TG.add_edge(\"d\", \"c\", time=2)\n",
    "TG.add_edge(\"d\", \"e\", time=2)\n",
    "TG.add_edge(\"a\", \"c\", time=2)\n",
    "TG.add_edge(\"f\", \"e\", time=3)\n",
    "TG.add_edge(\"f\", \"a\", time=3)\n",
    "TG.add_edge(\"f\", \"b\", time=3)\n",
    "\n",
    "tx.convert(TG.to_static(), \"igraph\")"
   ]
  },
  {
   "cell_type": "markdown",
   "metadata": {},
   "source": [
    "In the example above, the temporal graph `TG` is first flattened using\n",
    "[`to_static`](https://networkx-temporal.readthedocs.io/en/latest/api/classes.html#networkx_temporal.TemporalGraph.to_static). Otherwise, the function returns a list of graph objects,\n",
    "one per snapshot, as shown below:"
   ]
  },
  {
   "cell_type": "code",
   "execution_count": null,
   "metadata": {},
   "outputs": [],
   "source": [
    "TG = TG.slice(attr=\"time\")\n",
    "\n",
    "tx.convert(TG, \"igraph\")"
   ]
  },
  {
   "cell_type": "markdown",
   "metadata": {},
   "source": [
    "Support for the following output formats are implemented, here listed\n",
    "with their respective aliases:"
   ]
  },
  {
   "cell_type": "markdown",
   "metadata": {},
   "source": [
    "| Format | Parameter (Package) | Parameter (Alias) |\n",
    "|---|:---:|:---:|\n",
    "| [Deep Graph Library](https://www.dgl.ai/) | `dgl` | - |\n",
    "| [graph-tool](https://graph-tool.skewed.de/) | `graph_tool` | `gt` |\n",
    "| [igraph](https://igraph.org/python/) | `igraph` | `ig` |\n",
    "| [NetworKit](https://networkit.github.io/) | `networkit` | `nk` |\n",
    "| [PyTorch Geometric](https://pytorch-geometric.readthedocs.io) | `torch_geometric` | `pyg` |\n",
    "| [Teneto](https://teneto.readthedocs.io) | `teneto` | - |"
   ]
  },
  {
   "cell_type": "markdown",
   "metadata": {},
   "source": [
    "## Graph representations\n",
    "\n",
    "Once a temporal graph is instantiated, the following methods allow\n",
    "returning static graphs, snapshots events or unified representations.\n",
    "Due to the way the underlying data is represented, some of these objects\n",
    "(i.e., those with unique nodes) do not allow dynamic node attributes.\n",
    "\n",
    "Observe that the total number of nodes $V$ and edges $E$ of the returned\n",
    "object might differ from the number of temporal nodes $V_T$ and edges\n",
    "$E_T$, depending on the data and method used:"
   ]
  },
  {
   "cell_type": "markdown",
   "metadata": {},
   "source": [
    "| Method | Order | Size | Dynamic node attributes | Dynamic edge attributes |\n",
    "|---|:---:|:---:|:----:|:---:|\n",
    "| [`to_static`](https://networkx-temporal.readthedocs.io/en/latest/api/classes.html#networkx_temporal.TemporalGraph.to_static) | $V = V_T$ | $E = E_T$ | ❌ | ✅ |\n",
    "| [`to_snapshots`](https://networkx-temporal.readthedocs.io/en/latest/api/classes.html#networkx_temporal.TemporalGraph.to_snapshots) | $V \\ge V_T$ | $E = E_T$ | ✅ | ✅ |\n",
    "| [`to_events`](https://networkx-temporal.readthedocs.io/en/latest/api/classes.html#networkx_temporal.TemporalGraph.to_events) | $V = V_T$ | $E = E_T$ | ❌ | ❌ |\n",
    "| [`to_unified`](https://networkx-temporal.readthedocs.io/en/latest/api/classes.html#networkx_temporal.TemporalGraph.to_unified) | $V \\ge V_T$ | $E \\ge E_T$ | ✅ | ✅ |\n"
   ]
  },
  {
   "cell_type": "markdown",
   "metadata": {},
   "source": [
    "### Static graph\n",
    "\n",
    "Builds a static or flattened graph `G` containing all the edges found at\n",
    "each time step."
   ]
  },
  {
   "cell_type": "markdown",
   "metadata": {},
   "source": [
    "> **Important:**\n",
    "> Dynamic node attributes in a temporal graph are not preserved in a\n",
    "> static graph."
   ]
  },
  {
   "cell_type": "markdown",
   "metadata": {},
   "source": [
    "**TemporalGraph → G**"
   ]
  },
  {
   "cell_type": "code",
   "execution_count": null,
   "metadata": {},
   "outputs": [],
   "source": [
    "G = TG.to_static()\n",
    "G"
   ]
  },
  {
   "cell_type": "code",
   "execution_count": null,
   "metadata": {},
   "outputs": [],
   "source": [
    "tx.draw(G, layout=\"kamada_kawai\", suptitle=\"Static Graph\")"
   ]
  },
  {
   "cell_type": "markdown",
   "metadata": {},
   "source": [
    "**G → TemporalGraph**"
   ]
  },
  {
   "cell_type": "code",
   "execution_count": null,
   "metadata": {},
   "outputs": [],
   "source": [
    "TG = tx.from_static(G).slice(attr=\"time\")\n",
    "TG"
   ]
  },
  {
   "cell_type": "markdown",
   "metadata": {},
   "source": [
    "### Snapshot-based temporal graph\n",
    "\n",
    "A snapshot-based temporal graph `STG` is a sequence of graphs where each\n",
    "element represents a snapshot of the original temporal graph. It is the\n",
    "most common representation of temporal graphs."
   ]
  },
  {
   "cell_type": "markdown",
   "metadata": {},
   "source": [
    "> **Note:**\n",
    "> Like the [`slice`](https://networkx-temporal.readthedocs.io/en/latest/api/classes.html#networkx_temporal.TemporalGraph.slice) method, this function\n",
    "> internally returns views of the original graph data, so no data is\n",
    "> copied unless specified otherwise, i.e., by passing `as_view=False` to\n",
    "> the function."
   ]
  },
  {
   "cell_type": "markdown",
   "metadata": {},
   "source": [
    "**TemporalGraph → STG**"
   ]
  },
  {
   "cell_type": "code",
   "execution_count": null,
   "metadata": {},
   "outputs": [],
   "source": [
    "STG = TG.to_snapshots()\n",
    "STG"
   ]
  },
  {
   "cell_type": "markdown",
   "metadata": {},
   "source": [
    "**STG → TemporalGraph**"
   ]
  },
  {
   "cell_type": "code",
   "execution_count": null,
   "metadata": {},
   "outputs": [],
   "source": [
    "TG = tx.from_snapshots(STG)\n",
    "TG"
   ]
  },
  {
   "cell_type": "markdown",
   "metadata": {},
   "source": [
    "### Event-based temporal graph\n",
    "\n",
    "An event-based temporal graph `ETG` is a sequence of 3- or 4-tuple\n",
    "edge-based events.\n",
    "\n",
    "-   **3-tuples** ($u, v, t$), where elements are the source node, target\n",
    "    node, and time attribute;\n",
    "-   **4-tuples** ($u, v, t, \\epsilon$), where an additional element\n",
    "    $\\epsilon$ is either a positive (`1`) or negative (`-1`) unity\n",
    "    representing edge addition and deletion events, respectively.\n",
    "\n",
    "Depending on the temporal graph data, one of these may allow a more\n",
    "compact representation than the other. The default is to return a\n",
    "3-tuple sequence (also known as a *stream graph*)."
   ]
  },
  {
   "cell_type": "markdown",
   "metadata": {},
   "source": [
    "> **Important:**\n",
    "> Event-based temporal graphs do not currently store node- or edge-level\n",
    "> attribute data. Moreover, as sequences of events are edge-based, node\n",
    "> isolates are not preserved."
   ]
  },
  {
   "cell_type": "markdown",
   "metadata": {},
   "source": [
    "**TemporalGraph → ETG**"
   ]
  },
  {
   "cell_type": "code",
   "execution_count": null,
   "metadata": {},
   "outputs": [],
   "source": [
    "ETG = TG.to_events()  # stream=True (default)\n",
    "ETG"
   ]
  },
  {
   "cell_type": "code",
   "execution_count": null,
   "metadata": {},
   "outputs": [],
   "source": [
    "ETG = TG.to_events(stream=False)\n",
    "ETG"
   ]
  },
  {
   "cell_type": "markdown",
   "metadata": {},
   "source": [
    "**ETG → TemporalGraph**"
   ]
  },
  {
   "cell_type": "code",
   "execution_count": null,
   "metadata": {},
   "outputs": [],
   "source": [
    "tx.from_events(ETG, directed=True, multigraph=True)"
   ]
  },
  {
   "cell_type": "markdown",
   "metadata": {},
   "source": [
    "### Unified temporal graph\n",
    "\n",
    "A unified temporal graph `UTG` is a single graph object that contains\n",
    "the original temporal data, plus \"proxy\" nodes (*from each snapshot*)\n",
    "and edge \"couplings\" (*linking sequential temporal nodes*). Its\n",
    "usefulness is restricted to certain types of analysis and visualization,\n",
    "e.g., based on temporal flows."
   ]
  },
  {
   "cell_type": "markdown",
   "metadata": {},
   "source": [
    "**TemporalGraph → UTG**"
   ]
  },
  {
   "cell_type": "code",
   "execution_count": null,
   "metadata": {},
   "outputs": [],
   "source": [
    "UTG = TG.to_unified(add_couplings=True)\n",
    "UTG"
   ]
  },
  {
   "cell_type": "code",
   "execution_count": null,
   "metadata": {},
   "outputs": [],
   "source": [
    "nodes = sorted(TG.temporal_nodes())\n",
    "\n",
    "pos = {node: (nodes.index(node.rsplit(\"_\")[0]), -int(node.rsplit(\"_\")[1]))\n",
    "       for node in UTG.nodes()}\n",
    "\n",
    "tx.draw(UTG,\n",
    "        pos=pos,\n",
    "        figsize=(4, 4),\n",
    "        connectionstyle=\"arc3,rad=0.25\",\n",
    "        suptitle=\"Unified Temporal Graph\")"
   ]
  },
  {
   "cell_type": "markdown",
   "metadata": {},
   "source": [
    "**UTG → TemporalGraph**"
   ]
  },
  {
   "cell_type": "code",
   "execution_count": null,
   "metadata": {},
   "outputs": [],
   "source": [
    "tx.from_unified(UTG)"
   ]
  },
  {
   "cell_type": "markdown",
   "metadata": {},
   "source": [
    "___\n",
    "\n",
    "# Common metrics\n",
    "\n",
    "This section showcases some common metrics available for temporal graphs\n",
    "and its snapshots, that is, the individual (static) graphs that compose\n",
    "a [`TemporalGraph`](https://networkx-temporal.readthedocs.io/en/latest/api/classes.html#networkx_temporal.TemporalGraph) object after calling\n",
    "[`slice`](https://networkx-temporal.readthedocs.io/en/latest/api/classes.html#networkx_temporal.TemporalGraph.slice).\n"
   ]
  },
  {
   "cell_type": "markdown",
   "metadata": {},
   "source": [
    "> **Note:**\n",
    "> Contributions are welcome! If you would like to see a specific metric\n",
    "> for temporal graphs implemented, please feel free to submit a pull\n",
    "> request on the package's [GitHub\n",
    "> repository](https://github.com/nelsonaloysio/networkx-temporal)."
   ]
  },
  {
   "cell_type": "markdown",
   "metadata": {},
   "source": [
    "## Static graph metrics\n",
    "\n",
    "The functions and algorithms implemented by NetworkX can be applied\n",
    "directly on the temporal graph snapshots, either by iterating over them\n",
    "or by calling the [corresponding\n",
    "methods](https://networkx.org/documentation/stable/reference/classes/graph.html#methods)\n",
    "directly.\n",
    "\n",
    "Such methods are executed on each graph snapshot when called and return\n",
    "a list of results --- unless in case of specific functions that have\n",
    "been overriden, maintaining their use, such as\n",
    "`is_directed`.\n"
   ]
  },
  {
   "cell_type": "markdown",
   "metadata": {},
   "source": [
    "### Degree centrality\n",
    "\n",
    "Methods such as\n",
    "[degree](https://networkx.org/documentation/stable/reference/generated/networkx.classes.function.degree.html),\n",
    "[in_degree](https://networkx.org/documentation/stable/reference/classes/generated/networkx.DiGraph.in_degree.html),\n",
    "and\n",
    "[out_degree](https://networkx.org/documentation/stable/reference/classes/generated/networkx.DiGraph.out_degree.html)\n",
    "return a list of degree views per snapshot:"
   ]
  },
  {
   "cell_type": "code",
   "execution_count": null,
   "metadata": {},
   "outputs": [],
   "source": [
    "import networkx_temporal as tx\n",
    "\n",
    "TG = tx.TemporalGraph(directed=True)\n",
    "\n",
    "TG.add_edge(\"a\", \"b\", time=0)\n",
    "TG.add_edge(\"c\", \"b\", time=1)\n",
    "TG.add_edge(\"d\", \"c\", time=2)\n",
    "TG.add_edge(\"d\", \"e\", time=2)\n",
    "TG.add_edge(\"a\", \"c\", time=2)\n",
    "TG.add_edge(\"f\", \"e\", time=3)\n",
    "TG.add_edge(\"f\", \"a\", time=3)\n",
    "TG.add_edge(\"f\", \"b\", time=3)\n",
    "\n",
    "TG = TG.slice(attr=\"time\")\n",
    "\n",
    "TG.degree()"
   ]
  },
  {
   "cell_type": "markdown",
   "metadata": {},
   "source": [
    "Alternatively, we may obtain the degree of a specific node in a given\n",
    "snapshot, e.g., node $a_0$:"
   ]
  },
  {
   "cell_type": "code",
   "execution_count": null,
   "metadata": {},
   "outputs": [],
   "source": [
    "TG[0].degree(\"a\")"
   ]
  },
  {
   "cell_type": "markdown",
   "metadata": {},
   "source": [
    "### Order and size\n",
    "\n",
    "Similarly, to obtain the total number of nodes and edges in each\n",
    "snapshot:"
   ]
  },
  {
   "cell_type": "code",
   "execution_count": null,
   "metadata": {},
   "outputs": [],
   "source": [
    "print(\"Order:\", TG.order())\n",
    "print(\"Size:\", TG.size())"
   ]
  },
  {
   "cell_type": "markdown",
   "metadata": {},
   "source": [
    "### Node neighborhoods\n",
    "\n",
    "The `neighbors` method returns a list of neighbors for each node in each\n",
    "snapshot:"
   ]
  },
  {
   "cell_type": "markdown",
   "metadata": {},
   "source": [
    "## Temporal graph metrics\n",
    "\n",
    "Only a few methods that consider all snapshots are currently available\n",
    "from [`TemporalGraph`](https://networkx-temporal.readthedocs.io/en/latest/api/classes.html#networkx_temporal.TemporalGraph) objects. They mostly serve as\n",
    "wrappers of the available functions in NetworkX, for convenience\n",
    "purposes."
   ]
  },
  {
   "cell_type": "markdown",
   "metadata": {},
   "source": [
    "### Temporal degree centrality\n",
    "\n",
    "Meanwhile, [`temporal_degree`](https://networkx-temporal.readthedocs.io/en/latest/api/classes.html#networkx_temporal.TemporalGraph.temporal_degree) returns a\n",
    "dictionary containing node degrees across all time steps:"
   ]
  },
  {
   "cell_type": "code",
   "execution_count": null,
   "metadata": {},
   "outputs": [],
   "source": [
    "TG.temporal_degree()"
   ]
  },
  {
   "cell_type": "markdown",
   "metadata": {},
   "source": [
    "Alternatively, to obtain the degree of a specific node considering all\n",
    "snapshots, e.g., node $a$:"
   ]
  },
  {
   "cell_type": "code",
   "execution_count": null,
   "metadata": {},
   "outputs": [],
   "source": [
    "TG.temporal_degree(\"a\")"
   ]
  },
  {
   "cell_type": "markdown",
   "metadata": {},
   "source": [
    "### Temporal order and size"
   ]
  },
  {
   "cell_type": "markdown",
   "metadata": {},
   "source": [
    "The [`temporal_order`](https://networkx-temporal.readthedocs.io/en/latest/api/classes.html#networkx_temporal.TemporalGraph.temporal_order) and\n",
    "[`temporal_size`](https://networkx-temporal.readthedocs.io/en/latest/api/classes.html#networkx_temporal.TemporalGraph.temporal_size) functions return the\n",
    "total unique nodes and edges:"
   ]
  },
  {
   "cell_type": "code",
   "execution_count": null,
   "metadata": {},
   "outputs": [],
   "source": [
    "print(\"Temporal nodes:\", TG.temporal_order())\n",
    "print(\"Temporal edges:\", TG.temporal_size())"
   ]
  },
  {
   "cell_type": "markdown",
   "metadata": {},
   "source": [
    "> **Note:**\n",
    "> The temporal order and size of a temporal graph match the length of\n",
    "> [`temporal_nodes`](https://networkx-temporal.readthedocs.io/en/latest/api/classes.html#networkx_temporal.TemporalGraph.temporal_nodes) and\n",
    "> [`temporal_edges`](https://networkx-temporal.readthedocs.io/en/latest/api/classes.html#networkx_temporal.TemporalGraph.temporal_edges), i.e., the sets of all\n",
    "> (**unique**) nodes and edges across all snapshots."
   ]
  },
  {
   "cell_type": "markdown",
   "metadata": {},
   "source": [
    "#### Total number of nodes and edges\n",
    "\n",
    "Obtaining the actual number of nodes and edges across all snapshots,\n",
    "**with** duplicates:\n"
   ]
  },
  {
   "cell_type": "code",
   "execution_count": null,
   "metadata": {},
   "outputs": [],
   "source": [
    "print(\"Total nodes:\", TG.total_nodes())  # TG.total_nodes() != TG.temporal_order()\n",
    "print(\"Total edges:\", TG.total_edges())  # TG.total_edges() == TG.temporal_size()"
   ]
  },
  {
   "cell_type": "markdown",
   "metadata": {},
   "source": [
    "> **Note:**\n",
    "> The temporal order and size of a temporal graph match the sum of `nodes`\n",
    "> and `edges`, i.e., the lists of all (**non-unique**) nodes and edges\n",
    "> across all snapshots."
   ]
  },
  {
   "cell_type": "markdown",
   "metadata": {},
   "source": [
    "### Temporal node neighborhoods\n",
    "\n",
    "The [`temporal_neighbors`](https://networkx-temporal.readthedocs.io/en/latest/api/classes.html#networkx_temporal.TemporalGraph.temporal_neighbors) method returns\n",
    "a dictionary containing node neighbors in all snapshots:"
   ]
  },
  {
   "cell_type": "code",
   "execution_count": null,
   "metadata": {},
   "outputs": [],
   "source": [
    "TG.temporal_neighbors(\"c\")"
   ]
  },
  {
   "cell_type": "markdown",
   "metadata": {},
   "source": [
    "___\n",
    "\n",
    "# Community detection\n",
    "\n",
    "Community detection is a fundamental task in network analysis. This\n",
    "simple example demonstrates how a network's temporal dynamics can\n",
    "benefit the detection of its mesoscale structures."
   ]
  },
  {
   "cell_type": "markdown",
   "metadata": {},
   "source": [
    "## Generate graph\n",
    "\n",
    "As a toy example, let's first use the simplest [Stochastic Block\n",
    "Model](https://networkx.org/documentation/stable/reference/generated/networkx.generators.community.stochastic_block_model.html)\n",
    "to generate 4 graph snapshots, in which each of the 5 clusters of 5\n",
    "nodes each continuously mix together over time:"
   ]
  },
  {
   "cell_type": "code",
   "execution_count": null,
   "metadata": {},
   "outputs": [],
   "source": [
    "snapshots = 4   # Temporal graphs to generate.\n",
    "clusters = 5    # Number of clusters/communities.\n",
    "order = 5       # Nodes in each cluster.\n",
    "intra = .9      # High initial probability of intra-community edges.\n",
    "inter = .1      # Low initial probability of inter-community edges.\n",
    "change = .125   # Change in intra- and inter-community edges over time.\n",
    "\n",
    "# Get probability matrix for each snapshot.\n",
    "probs = [[[\n",
    "    (intra if i == j else inter) + (t * change * (-1 if i == j else 1))\n",
    "    for j in range(clusters)]\n",
    "    for i in range(clusters)]\n",
    "    for t in range(snapshots)]\n",
    "\n",
    "# Create graphs from probabilities.\n",
    "graphs = {}\n",
    "for t in range(snapshots):\n",
    "    graphs[t] = nx.stochastic_block_model(clusters*[order], probs[t], seed=10)\n",
    "    graphs[t].name = t\n",
    "\n",
    "# Create temporal graph from snapshots.\n",
    "TG = tx.from_snapshots(graphs)"
   ]
  },
  {
   "cell_type": "markdown",
   "metadata": {},
   "source": [
    "Let's plot the graphs, with node colors representing communities and\n",
    "intra-community edges:"
   ]
  },
  {
   "cell_type": "code",
   "execution_count": null,
   "metadata": {},
   "outputs": [],
   "source": [
    "import matplotlib.pyplot as plt\n",
    "\n",
    "def get_edge_color(edges: list, node_color: dict):\n",
    "    return [node_color[u]\n",
    "            if node_color[u] == node_color[v]\n",
    "            else \"#00000035\"\n",
    "            for u, v in edges]\n",
    "\n",
    "c = plt.cm.tab10.colors\n",
    "\n",
    "# Node positions.\n",
    "pos = nx.circular_layout(TG.to_static())\n",
    "\n",
    "# Community ground truths.\n",
    "node_color = [c[i // clusters] for i in range(TG.temporal_order())]\n",
    "\n",
    "# Colorize intra-community edges.\n",
    "temporal_opts = {t: {\"edge_color\": get_edge_color(TG[t].edges(), node_color)}\n",
    "                 for t in range(len(TG))}\n",
    "\n",
    "# Plot snapshots with community ground truths.\n",
    "tx.draw(\n",
    "    TG,\n",
    "    pos=pos,\n",
    "    figsize=(12, 3.5),\n",
    "    node_color=node_color,\n",
    "    temporal_opts=temporal_opts,\n",
    "    connectionstyle=\"arc3,rad=0.1\",\n",
    "    suptitle=\"Ground truths\")"
   ]
  },
  {
   "cell_type": "markdown",
   "metadata": {},
   "source": [
    "We see the graphs are generated with the same community structure, but\n",
    "continuously decreasing assortativity. Let's try and retrieve the ground\n",
    "truths using a simple community detection algorithm."
   ]
  },
  {
   "cell_type": "markdown",
   "metadata": {},
   "source": [
    "## Modularity optimization\n",
    "\n",
    "The [leidenalg](https://leidenalg.readthedocs.io) [1] package implements\n",
    "optimization algorithms for community detection that may be applied on\n",
    "snapshot-based temporal graphs, allowing to better capture their\n",
    "underlying structure."
   ]
  },
  {
   "cell_type": "markdown",
   "metadata": {},
   "source": [
    "> **Attention:**\n",
    "> Optimizations algorithms may help with descriptive or exploratory\n",
    "> tasks and post-hoc network analysis, but lack statistical rigor for\n",
    "> inferential purposes. See [Peixoto\n",
    "> (2021)](https://skewed.de/tiago/posts/descriptive-inferential/) [2] for\n",
    "> a discussion."
   ]
  },
  {
   "cell_type": "markdown",
   "metadata": {},
   "source": [
    "### On the static graph\n",
    "\n",
    "Let's start by considering the network as a \"flattened\" graph, i.e.,\n",
    "ignoring its temporal information.\n",
    "\n",
    "We can observe that depending on the initial node community assigments\n",
    "(e.g., with `seed=0` below),\n",
    "[modularity](https://leidenalg.readthedocs.io/en/stable/reference.html#modularityvertexpartition) [3]\n",
    "fails to retrieve the true communities (ground truths) in the\n",
    "network:"
   ]
  },
  {
   "cell_type": "code",
   "execution_count": null,
   "metadata": {},
   "outputs": [],
   "source": [
    "import leidenalg as la\n",
    "\n",
    "membership = la.find_partition(\n",
    "    TG.to_static(\"igraph\"),\n",
    "    la.ModularityVertexPartition,\n",
    "    n_iterations=-1,\n",
    "    seed=0,\n",
    ")\n",
    "\n",
    "node_color = [c[m] for m in membership.membership]\n",
    "edge_color = get_edge_color(TG.to_static().edges(), node_color)\n",
    "\n",
    "tx.draw(\n",
    "    TG.to_static(),\n",
    "    pos=pos,\n",
    "    figsize=(4, 4),\n",
    "    node_color=node_color,\n",
    "    edge_color=edge_color,\n",
    "    connectionstyle=\"arc3,rad=0.1\",\n",
    "    suptitle=\"Communities found by modularity on static graph\")"
   ]
  },
  {
   "cell_type": "markdown",
   "metadata": {},
   "source": [
    "Next, let's try considering the network's temporal information to see if\n",
    "we can improve the results."
   ]
  },
  {
   "cell_type": "markdown",
   "metadata": {},
   "source": [
    "### On each snapshot\n",
    "\n",
    "Running the same algorithm separately on each of the generated snapshots\n",
    "retrieves the correct clusters only on the first graph ($t=0$). In\n",
    "addition, community indices (represented by their colors) are not fixed\n",
    "over snapshots, which makes understanding their mesoscale dynamics\n",
    "harder:"
   ]
  },
  {
   "cell_type": "code",
   "execution_count": null,
   "metadata": {},
   "outputs": [],
   "source": [
    "temporal_opts = {}\n",
    "\n",
    "for t in range(len(TG)):\n",
    "    membership = la.find_partition(\n",
    "        TG[t:t+1].to_static(\"igraph\"),\n",
    "        la.ModularityVertexPartition,\n",
    "        n_iterations=-1,\n",
    "        seed=0,\n",
    "    )\n",
    "    node_color = [c[m] for m in membership.membership]\n",
    "    edge_color = get_edge_color(TG[t].edges(), node_color)\n",
    "    temporal_opts[t] = {\"node_color\": node_color, \"edge_color\": edge_color}\n",
    "\n",
    "tx.draw(\n",
    "    TG,\n",
    "    pos=pos,\n",
    "    figsize=(12, 3.5),\n",
    "    temporal_opts=temporal_opts,\n",
    "    connectionstyle=\"arc3,rad=0.1\",\n",
    "    suptitle=\"Communities found by modularity on snapshots\")"
   ]
  },
  {
   "cell_type": "markdown",
   "metadata": {},
   "source": [
    "This is mostly due to modularity optimization expecting an assortative\n",
    "community structure, while our network grows more disassortative over\n",
    "time. Not only the results of later snapshots are here suboptimal, it is\n",
    "also particularly hard to understand the network's mesoscale temporal\n",
    "dynamics.\n"
   ]
  },
  {
   "cell_type": "markdown",
   "metadata": {},
   "source": [
    "### On the temporal graph\n",
    "\n",
    "[Coupling temporal\n",
    "nodes](https://leidenalg.readthedocs.io/en/stable/multiplex.html#slices-to-layers)\n",
    "allows the same algorithm to correctly retrieve the ground truths in\n",
    "this case, while at the same time maintaining community indices\n",
    "consistent over time, as seen below:"
   ]
  },
  {
   "cell_type": "code",
   "execution_count": null,
   "metadata": {},
   "outputs": [],
   "source": [
    "temporal_opts = {}\n",
    "\n",
    "temporal_membership, improvement = la.find_partition_temporal(\n",
    "    TG.to_snapshots(\"igraph\"),\n",
    "    la.ModularityVertexPartition,\n",
    "    interslice_weight=1.0,\n",
    "    n_iterations=-1,\n",
    "    seed=0,\n",
    "    vertex_id_attr=\"_nx_name\"\n",
    ")\n",
    "\n",
    "for t in range(len(TG)):\n",
    "    node_color = [c[m] for m in temporal_membership[t]]\n",
    "    edge_color = get_edge_color(TG[t].edges(), node_color)\n",
    "    temporal_opts[t] = {\"node_color\": node_color, \"edge_color\": edge_color}\n",
    "\n",
    "tx.draw(\n",
    "    TG,\n",
    "    pos=pos,\n",
    "    figsize=(12, 3.5),\n",
    "    temporal_opts=temporal_opts,\n",
    "    connectionstyle=\"arc3,rad=0.1\",\n",
    "    suptitle=\"Communities found by modularity on temporal graph\")"
   ]
  },
  {
   "cell_type": "markdown",
   "metadata": {},
   "source": [
    "This method seems particularly useful to track communities over time, as\n",
    "it allows to maintain the same community indices across snapshots,\n",
    "potentially contributing to the study of their dynamics. Although very\n",
    "simple, this example showcases how considering a network's temporal\n",
    "information can benefit its analysis, as well as help to better\n",
    "understand and visualize its mesoscale structures."
   ]
  },
  {
   "cell_type": "markdown",
   "metadata": {},
   "source": [
    "---\n",
    "\n",
    "**References**\n",
    "\n",
    "1. V. A. Traag, L. Waltman, N. J. van Eck (2019). ''From Louvain to Leiden: guaranteeing\n",
    "   well-connected communities''. Scientific Reports, 9(1), 5233.\n",
    "\n",
    "2. Tiago. P. Peixoto (2023). ''Descriptive Vs. Inferential Community Detection in Networks:\n",
    "   Pitfalls, Myths and Half-Truths''. Elements in the Structure and Dynamics of Complex Networks,\n",
    "   Cambridge University Press.\n",
    "\n",
    "3. Mark Newman (2018). ''Networks''. Oxford University Press, 2nd ed., pp. 498--514."
   ]
  }
 ],
 "metadata": {
  "kernelspec": {
   "display_name": "Python 3 (ipykernel)",
   "language": "python",
   "name": "python3"
  },
  "language_info": {
   "codemirror_mode": {
    "name": "ipython",
    "version": 3
   },
   "file_extension": ".py",
   "mimetype": "text/x-python",
   "name": "python",
   "nbconvert_exporter": "python",
   "pygments_lexer": "ipython3",
   "version": "3.8.19"
  }
 },
 "nbformat": 4,
 "nbformat_minor": 2
}

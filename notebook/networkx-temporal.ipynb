{
 "cells": [
  {
   "cell_type": "markdown",
   "metadata": {},
   "source": [
    "# [networkx-temporal](https://pypi.org/project/networkx-temporal/)\n",
    "\n",
    "The examples below are also available in the [documentation]()."
   ]
  },
  {
   "cell_type": "code",
   "execution_count": null,
   "metadata": {},
   "outputs": [],
   "source": [
    "!pip install -q leidenalg matplotlib networkx networkx-temporal python-igraph"
   ]
  },
  {
   "cell_type": "code",
   "execution_count": null,
   "metadata": {},
   "outputs": [],
   "source": [
    "%load_ext autoreload\n",
    "%autoreload 2\n",
    "import networkx as nx\n",
    "import networkx_temporal as tx\n",
    "from networkx_temporal.example.draw import draw_temporal_graph"
   ]
  },
  {
   "cell_type": "markdown",
   "metadata": {},
   "source": [
    "___\n",
    "\n",
    "### Build temporal graph\n",
    "\n",
    "The main class of the package is the `TemporalGraph` object, which extends `networkx.Graph` to handle temporal data.\n",
    "\n",
    "Let's start by creating a simple directed graph using ``time`` as attribute key:"
   ]
  },
  {
   "cell_type": "code",
   "execution_count": null,
   "metadata": {},
   "outputs": [],
   "source": [
    "TG = tx.TemporalGraph(directed=True)  # multigraph=True\n",
    "\n",
    "TG.add_edge(\"a\", \"b\", time=0)\n",
    "TG.add_edge(\"c\", \"b\", time=1)\n",
    "TG.add_edge(\"d\", \"c\", time=2)\n",
    "TG.add_edge(\"d\", \"e\", time=2)\n",
    "TG.add_edge(\"a\", \"c\", time=2)\n",
    "TG.add_edge(\"f\", \"e\", time=3)\n",
    "TG.add_edge(\"f\", \"a\", time=3)\n",
    "TG.add_edge(\"f\", \"b\", time=3)\n",
    "\n",
    "TG"
   ]
  },
  {
   "cell_type": "markdown",
   "metadata": {},
   "source": [
    "Note that the resulting graph object reports a **single** time step ``t=1``, as it haven't yet been sliced.\n",
    "\n",
    "> By default, graphs created with the package allow multiple edges between the same pair of nodes ([MultiGraph](https://networkx.org/documentation/stable/reference/classes/multigraph.html)). This is particularly useful for temporal graphs, as it allows to store multiple interactions between the same nodes at different time steps within a single graph object. This behavior can be changed by setting ``multigraph=False`` when creating the ``TemporalGraph`` object."
   ]
  },
  {
   "cell_type": "markdown",
   "metadata": {},
   "source": [
    "### Slice temporal graph"
   ]
  },
  {
   "cell_type": "markdown",
   "metadata": {},
   "source": [
    "We may now call `slice` to split the graph we created into a number of snapshots:"
   ]
  },
  {
   "cell_type": "code",
   "execution_count": null,
   "metadata": {},
   "outputs": [],
   "source": [
    "TG = TG.slice(attr=\"time\")\n",
    "TG"
   ]
  },
  {
   "cell_type": "markdown",
   "metadata": {},
   "source": [
    "We may further inspect the temporal graph's properties using the following methods:"
   ]
  },
  {
   "cell_type": "code",
   "execution_count": null,
   "metadata": {},
   "outputs": [],
   "source": [
    "print(f\"t = {len(TG)} time steps\\n\"\n",
    "      f\"V = {TG.order()} nodes ({TG.temporal_order()} unique, {TG.total_nodes()} total)\\n\"\n",
    "      f\"E = {TG.size()} edges ({TG.temporal_size()} unique, {TG.total_edges()} total)\")"
   ]
  },
  {
   "cell_type": "markdown",
   "metadata": {},
   "source": [
    "Let's now visualize the resulting temporal graph using the `draw_temporal_graph` function:"
   ]
  },
  {
   "cell_type": "code",
   "execution_count": null,
   "metadata": {},
   "outputs": [],
   "source": [
    "draw_temporal_graph(TG, figsize=(8, 2))"
   ]
  },
  {
   "cell_type": "markdown",
   "metadata": {},
   "source": [
    "> The `draw_temporal_graph` function currently simply calls `networkx`\n",
    "> [draw](https://networkx.org/documentation/stable/reference/generated/networkx.drawing.nx_pylab.draw.html)\n",
    "> in the backend and is meant only as an example to showcase the package’s capabilities. It does not scale well\n",
    "> to large graphs, which usually require more sophisticated approaches or specialized visualization tools."
   ]
  },
  {
   "cell_type": "markdown",
   "metadata": {},
   "source": [
    "### Specify number of snapshots\n",
    "\n",
    "A specific number of bins can be returned in a new object of the same type using ``slice``:"
   ]
  },
  {
   "cell_type": "code",
   "execution_count": null,
   "metadata": {},
   "outputs": [],
   "source": [
    "TG = TG.slice(attr=\"time\", bins=2)\n",
    "draw_temporal_graph(TG, figsize=(4, 2))"
   ]
  },
  {
   "cell_type": "markdown",
   "metadata": {},
   "source": [
    "Note that this usually leads to snapshots with differing numbers of nodes and edges, as expected."
   ]
  },
  {
   "cell_type": "markdown",
   "metadata": {},
   "source": [
    "#### Considering quantiles"
   ]
  },
  {
   "cell_type": "markdown",
   "metadata": {},
   "source": [
    "By default, created bins are composed of non-overlapping edges and might have uneven order and/or size.\n",
    "\n",
    "To try and balance them using quantiles, pass ``qcut=True`` (see [pandas.qcut](https://pandas.pydata.org/pandas-docs/stable/reference/api/pandas.qcut.html) for details):"
   ]
  },
  {
   "cell_type": "code",
   "execution_count": null,
   "metadata": {},
   "outputs": [],
   "source": [
    "TG = TG.slice(attr=\"time\", bins=2, qcut=True)\n",
    "draw_temporal_graph(TG, figsize=(4, 2))"
   ]
  },
  {
   "cell_type": "markdown",
   "metadata": {},
   "source": [
    "Though not perfectly balanced due to node $a$ appearing multiple times (in $t=\\{1,2,3\\}$),\n",
    "the resulting snapshots have a more even number of edges. Results are expected to vary in a case-by-case basis."
   ]
  },
  {
   "cell_type": "markdown",
   "metadata": {},
   "source": [
    "#### Considering order of appearance\n",
    "\n",
    "Forcing a number of bins can be achieved by setting ``rank_first=True``, therefore considering the order of appearance of nodes or edges."
   ]
  },
  {
   "cell_type": "code",
   "execution_count": null,
   "metadata": {},
   "outputs": [],
   "source": [
    "TG = TG.slice(attr=\"time\", bins=2, rank_first=True)\n",
    "draw_temporal_graph(TG, figsize=(4, 2))"
   ]
  },
  {
   "cell_type": "markdown",
   "metadata": {},
   "source": [
    "As the `time` attribute is here located in the edge level, each resulting snapshot has 4 edges each.\n",
    "\n",
    "In case of node-level times, the number of nodes in each snapshot would be more evenly distributed."
   ]
  },
  {
   "cell_type": "markdown",
   "metadata": {},
   "source": [
    "> In some cases, ``slice`` may still not be able to split the graph into the number of bins requested (e.g., insufficient data), returning the maximum possible number of temporal snapshots instead."
   ]
  },
  {
   "cell_type": "markdown",
   "metadata": {},
   "source": [
    "### Convert from static graph\n",
    "\n",
    "Static graphs may carry temporal information in both node- and edge-level attributes.\n",
    "\n",
    "Slicing a graph into bins usually result in the same number of edges, but a higher number of nodes, as they may appear in more than one snapshot.\n",
    "\n",
    "In the example below, we create a static multigraph in which both nodes and edges are attributed with the time step in which they are observed:"
   ]
  },
  {
   "cell_type": "code",
   "execution_count": null,
   "metadata": {},
   "outputs": [],
   "source": [
    "G = nx.MultiDiGraph()\n",
    "\n",
    "G.add_nodes_from([\n",
    "    (\"a\", {\"time\": 0}),\n",
    "    (\"b\", {\"time\": 0}),\n",
    "    (\"c\", {\"time\": 1}),\n",
    "    (\"d\", {\"time\": 2}),\n",
    "    (\"e\", {\"time\": 3}),\n",
    "    (\"f\", {\"time\": 3}),\n",
    "])\n",
    "\n",
    "G.add_edges_from([\n",
    "    (\"a\", \"b\", {\"time\": 0}),\n",
    "    (\"c\", \"b\", {\"time\": 1}),\n",
    "    (\"d\", \"c\", {\"time\": 2}),\n",
    "    (\"d\", \"e\", {\"time\": 2}),\n",
    "    (\"a\", \"c\", {\"time\": 2}),\n",
    "    (\"f\", \"e\", {\"time\": 3}),\n",
    "    (\"f\", \"a\", {\"time\": 3}),\n",
    "    (\"f\", \"b\", {\"time\": 3}),\n",
    "])\n",
    "\n",
    "print(G)"
   ]
  },
  {
   "cell_type": "markdown",
   "metadata": {},
   "source": [
    "#### Edge-level time attribute\n",
    "\n",
    "Converting a static graph with edge-level temporal data to a temporal graph object (edge's time applies to both source and target nodes):"
   ]
  },
  {
   "cell_type": "code",
   "execution_count": null,
   "metadata": {},
   "outputs": [],
   "source": [
    "TG = tx.from_static(G).slice(attr=\"time\", attr_level=\"edge\", bins=None, qcut=None)\n",
    "draw_temporal_graph(TG, figsize=(8, 2))"
   ]
  },
  {
   "cell_type": "markdown",
   "metadata": {},
   "source": [
    "#### Node-level time attribute\n",
    "\n",
    "Converting a static graph with node-level temporal data to a temporal graph object:"
   ]
  },
  {
   "cell_type": "code",
   "execution_count": null,
   "metadata": {},
   "outputs": [],
   "source": [
    "TG = tx.from_static(G).slice(attr=\"time\", attr_level=\"node\")\n",
    "draw_temporal_graph(TG, figsize=(8, 2))"
   ]
  },
  {
   "cell_type": "markdown",
   "metadata": {},
   "source": [
    "Note that even though the edge $(a, c)$ contains the attribute `time=2`, considering node-level\n",
    "attributes resulted in it being placed at $t=0$ instead, as the source node $a$ is set to `time=0`:"
   ]
  },
  {
   "cell_type": "code",
   "execution_count": null,
   "metadata": {},
   "outputs": [],
   "source": [
    "G.nodes(data=\"time\")[\"a\"]"
   ]
  },
  {
   "cell_type": "markdown",
   "metadata": {},
   "source": [
    "> By default, the source node's temporal attribute is used to determine the time step of an edge.\n",
    "> This behavior can be changed by setting ``node_level='target'`` instead."
   ]
  },
  {
   "cell_type": "markdown",
   "metadata": {},
   "source": [
    "### Convert to directed or undirected\n",
    "\n",
    "We can easily convert the edge directions by calling the same methods available from `networkx`:"
   ]
  },
  {
   "cell_type": "code",
   "execution_count": null,
   "metadata": {},
   "outputs": [],
   "source": [
    "TG.to_undirected()"
   ]
  },
  {
   "cell_type": "code",
   "execution_count": null,
   "metadata": {},
   "outputs": [],
   "source": [
    "TG.to_directed()"
   ]
  },
  {
   "cell_type": "markdown",
   "metadata": {},
   "source": [
    "___\n",
    "\n",
    "## Common metrics\n",
    "\n",
    "All methods implemented by `networkx`, e.g., `degree`, are also available to be executed sequentially on the stored time slices.\n",
    "\n",
    "A few additional methods that consider all time slices are also implemented for convenience, e.g., `temporal_degree` and `temporal_neighbors`.\n",
    "\n",
    "### Degree centrality"
   ]
  },
  {
   "cell_type": "markdown",
   "metadata": {},
   "source": [
    "Functions such as ``degree``, ``in_degree``, ``out_degree`` return a list of degree views for each snapshot:"
   ]
  },
  {
   "cell_type": "code",
   "execution_count": null,
   "metadata": {},
   "outputs": [],
   "source": [
    "TG.degree()\n",
    "# TG.in_degree()\n",
    "# TG.out_degree()"
   ]
  },
  {
   "cell_type": "markdown",
   "metadata": {},
   "source": [
    "Alternatively, to obtain the degree of a specific node:"
   ]
  },
  {
   "cell_type": "code",
   "execution_count": null,
   "metadata": {},
   "outputs": [],
   "source": [
    "TG[0].degree(\"a\")\n",
    "# TG[0].in_degree(\"a\")\n",
    "# TG[0].out_degree(\"a\")"
   ]
  },
  {
   "cell_type": "markdown",
   "metadata": {},
   "source": [
    "#### Temporal degree centrality\n",
    "\n",
    "Meanwhile, ``temporal_degree`` returns a dictionary containing node degrees across all time steps:"
   ]
  },
  {
   "cell_type": "code",
   "execution_count": null,
   "metadata": {},
   "outputs": [],
   "source": [
    "TG.temporal_degree()\n",
    "# TG.temporal_in_degree()\n",
    "# TG.temporal_out_degree()"
   ]
  },
  {
   "cell_type": "markdown",
   "metadata": {},
   "source": [
    "Likewise, to obtain the degree of a specific node:"
   ]
  },
  {
   "cell_type": "code",
   "execution_count": null,
   "metadata": {},
   "outputs": [],
   "source": [
    "TG.temporal_degree(\"a\")\n",
    "# TG.temporal_in_degree(\"a\")\n",
    "# TG.temporal_out_degree(\"a\")"
   ]
  },
  {
   "cell_type": "markdown",
   "metadata": {},
   "source": [
    "### Order and size\n",
    "\n",
    "Obtaining the number of nodes and edges in each snapshot:"
   ]
  },
  {
   "cell_type": "code",
   "execution_count": null,
   "metadata": {},
   "outputs": [],
   "source": [
    "print(\"Order:\", TG.order())\n",
    "print(\"Size:\", TG.size())"
   ]
  },
  {
   "cell_type": "markdown",
   "metadata": {},
   "source": [
    "#### Temporal order and size\n",
    "\n",
    "Differently to the above, the ``temporal_order`` and ``temporal_size`` functions return the total number of nodes and edges across all time steps, **without** considering duplicated nodes across snapshots:"
   ]
  },
  {
   "cell_type": "code",
   "execution_count": null,
   "metadata": {},
   "outputs": [],
   "source": [
    "print(\"Temporal nodes:\", TG.temporal_order())\n",
    "print(\"Temporal edges:\", TG.temporal_size())"
   ]
  },
  {
   "cell_type": "markdown",
   "metadata": {},
   "source": [
    "> The temporal order and size are respectively defined as the length of ``TG.temporal_nodes()``, i.e., set of all nodes over time, and the length of ``TG.temporal_size()``, i.e., sum of all their edges."
   ]
  },
  {
   "cell_type": "markdown",
   "metadata": {},
   "source": [
    "#### Total number of nodes and edges\n",
    "\n",
    "Obtaining the actual number of nodes and edges across all snapshots, **with** duplicates:"
   ]
  },
  {
   "cell_type": "code",
   "execution_count": null,
   "metadata": {},
   "outputs": [],
   "source": [
    "print(\"Total nodes:\", TG.total_nodes())  # TG.total_nodes() != TG.temporal_order()\n",
    "print(\"Total edges:\", TG.total_edges())  # TG.total_edges() == TG.temporal_size()"
   ]
  },
  {
   "cell_type": "markdown",
   "metadata": {},
   "source": [
    "The total nodes and edges are respectively defined as the sum of ``TG.nodes()`` lengths, i.e., nodes in each snapshot, and the sum of ``TG.edges()`` lengths, i.e., edges in each snapshot."
   ]
  },
  {
   "cell_type": "markdown",
   "metadata": {},
   "source": [
    "### Node neighborhoods\n",
    "\n",
    "The ``neighbors`` method returns a list of neighbors for each node in each snapshot:"
   ]
  },
  {
   "cell_type": "code",
   "execution_count": null,
   "metadata": {},
   "outputs": [],
   "source": [
    "TG.neighbors(\"c\")"
   ]
  },
  {
   "cell_type": "markdown",
   "metadata": {},
   "source": [
    "#### Temporal node neighborhoods\n",
    "\n",
    "The ``temporal_neighbors`` method returns a dictionary containing node neighbors in all snapshots:"
   ]
  },
  {
   "cell_type": "code",
   "execution_count": null,
   "metadata": {},
   "outputs": [],
   "source": [
    "TG.temporal_neighbors(\"c\")"
   ]
  },
  {
   "cell_type": "markdown",
   "metadata": {},
   "source": [
    "___\n",
    "\n",
    "## Convert graph object\n",
    "\n",
    "Static graphs may be converted to a different object type by calling `convert` with the format:"
   ]
  },
  {
   "cell_type": "code",
   "execution_count": null,
   "metadata": {},
   "outputs": [],
   "source": [
    "tx.convert(G, \"igraph\")"
   ]
  },
  {
   "cell_type": "markdown",
   "metadata": {},
   "source": [
    "Support for the following packages are implemented:\n",
    "\n",
    "| Format | Parameter (Package) | Parameter (Alias) |\n",
    "| --- | :---: | :---: |\n",
    "| [Deep Graph Library](https://www.dgl.ai/) | `dgl` | -\n",
    "| [graph-tool](https://graph-tool.skewed.de/) | `graph_tool` | `gt`\n",
    "| [igraph](https://igraph.org/python/) | `igraph` | `ig`\n",
    "| [NetworKit](https://networkit.github.io/) | `networkit` | `nk`\n",
    "| [PyTorch Geometric](https://pytorch-geometric.readthedocs.io) | `torch_geometric` | `pyg`\n",
    "| [Teneto](https://teneto.readthedocs.io) | `teneto` | -\n",
    "\n",
    "> Currently, only static graphs of `networkx` type are accepted as input for converion.\n"
   ]
  },
  {
   "cell_type": "markdown",
   "metadata": {},
   "source": [
    "___\n",
    "\n",
    "## Transform graph representation\n",
    "\n",
    "Once a temporal graph is instantiated, the following methods allow returning static graphs, snapshots, events or unified representations.\n",
    "\n",
    "Due to the way the underlying data is represented, some of these objects (i.e., those with unique nodes) do not allow dynamic node attributes.\n",
    "\n",
    "Observe that the total number of nodes :math:`V` and edges :math:`E` of the returned object might differ from the number of\n",
    "temporal nodes :math:`V_T` and edges :math:`E_T`, depending on the data and method used:\n",
    "\n",
    "| Method | Order | Size | Dynamic node attributes | Dynamic edge attributes |\n",
    "| --- | :---: | :---: | :---: | :---: |\n",
    "| `to_static` | $V = V_T$ | $E = E_T$ | ❌ | ✅ |\n",
    "| `to_snapshots` | $V \\ge V_T$ | $E = E_T$ | ✅ | ✅ |\n",
    "| `to_events` | $V = V_T$ | $E = E_T$ | ❌ | ❌ |\n",
    "| `to_unified` | $V \\ge V_T$ | $E \\ge E_T$ | ✅ | ✅ |\n"
   ]
  },
  {
   "cell_type": "markdown",
   "metadata": {},
   "source": [
    "### Static graph\n",
    "\n",
    "Builds a static or flattened graph ``G`` containing all the edges found at each time step.\n",
    "\n",
    "> Any dynamic node attributes in the temporal graph are **not** preserved in the resulting object."
   ]
  },
  {
   "cell_type": "markdown",
   "metadata": {},
   "source": [
    "#### TemporalGraph → G"
   ]
  },
  {
   "cell_type": "code",
   "execution_count": null,
   "metadata": {},
   "outputs": [],
   "source": [
    "G = TG.to_static()\n",
    "G"
   ]
  },
  {
   "cell_type": "code",
   "execution_count": null,
   "metadata": {},
   "outputs": [],
   "source": [
    "draw_temporal_graph(G, suptitle=\"Static Graph\")"
   ]
  },
  {
   "cell_type": "markdown",
   "metadata": {},
   "source": [
    "#### G → TemporalGraph"
   ]
  },
  {
   "cell_type": "code",
   "execution_count": null,
   "metadata": {},
   "outputs": [],
   "source": [
    "TG = tx.from_static(G).slice(attr=\"time\")\n",
    "TG"
   ]
  },
  {
   "cell_type": "markdown",
   "metadata": {},
   "source": [
    "### Snapshot-based temporal graph\n",
    "\n",
    "A snapshot-based temporal graph ``STG`` is a sequence of graphs where each element represents a snapshot of the original temporal graph. It is the most common representation of temporal graphs.\n",
    "\n",
    "> Much like the ``slice`` method, this function internally returns views of the original graph data, so no data is copied unless specified otherwise (i.e., by calling ``as_view=False``)."
   ]
  },
  {
   "cell_type": "markdown",
   "metadata": {},
   "source": [
    "#### TemporalGraph → STG"
   ]
  },
  {
   "cell_type": "code",
   "execution_count": null,
   "metadata": {},
   "outputs": [],
   "source": [
    "STG = TG.to_snapshots()\n",
    "STG"
   ]
  },
  {
   "cell_type": "markdown",
   "metadata": {},
   "source": [
    "#### STG → TemporalGraph"
   ]
  },
  {
   "cell_type": "code",
   "execution_count": null,
   "metadata": {},
   "outputs": [],
   "source": [
    "TG = tx.from_snapshots(STG)\n",
    "TG"
   ]
  },
  {
   "cell_type": "markdown",
   "metadata": {},
   "source": [
    "### Event-based temporal graph\n",
    "\n",
    "An event-based temporal graph (ETG) is a sequence of 3- or 4-tuple edge-based events.\n",
    "\n",
    "* **3-tuples** ($u, v, t$), where elements are the source node, target node, and time attribute;\n",
    "\n",
    "* **4-tuples** ($u, v, t, \\epsilon$), where an additional emenet $\\epsilon$ is either a positive (1) or negative (-1) unity representing edge addition and deletion events, respectively.\n",
    "\n",
    "> Depending on the temporal graph data, one of these may allow a more compact representation than the other. The default is to return a 3-tuple sequence (also known as a *stream graph*).\n",
    "\n",
    ">Event-based temporal graphs do not currently store node- or edge-level attribute data."
   ]
  },
  {
   "cell_type": "markdown",
   "metadata": {},
   "source": [
    "#### TemporalGraph → ETG"
   ]
  },
  {
   "cell_type": "code",
   "execution_count": null,
   "metadata": {},
   "outputs": [],
   "source": [
    "ETG = TG.to_events()  # stream=True (default)\n",
    "ETG"
   ]
  },
  {
   "cell_type": "code",
   "execution_count": null,
   "metadata": {},
   "outputs": [],
   "source": [
    "ETG = TG.to_events(stream=False)\n",
    "ETG"
   ]
  },
  {
   "cell_type": "markdown",
   "metadata": {},
   "source": [
    "#### ETG → TemporalGraph  "
   ]
  },
  {
   "cell_type": "code",
   "execution_count": null,
   "metadata": {},
   "outputs": [],
   "source": [
    "tx.from_events(ETG, directed=True, multigraph=True)"
   ]
  },
  {
   "cell_type": "markdown",
   "metadata": {},
   "source": [
    "### Unified temporal graph\n",
    "\n",
    "A unified temporal graph ``UTG`` is a single graph object that contains the original temporal data,\n",
    "plus ''proxy'' nodes (*from each snapshot*) and edge ''couplings'' (*linking sequential temporal nodes*).\n",
    "\n",
    "Its usefulness is restricted to certain types of analysis and visualization, e.g., based on temporal flows."
   ]
  },
  {
   "cell_type": "markdown",
   "metadata": {},
   "source": [
    "#### UTG → TemporalGraph"
   ]
  },
  {
   "cell_type": "code",
   "execution_count": null,
   "metadata": {},
   "outputs": [],
   "source": [
    "UTG = TG.to_unified(add_couplings=True)\n",
    "print(UTG)"
   ]
  },
  {
   "cell_type": "code",
   "execution_count": null,
   "metadata": {},
   "outputs": [],
   "source": [
    "nodes = sorted(TG.temporal_nodes())\n",
    "\n",
    "pos = {node: (nodes.index(node.rsplit(\"_\")[0]), -int(node.rsplit(\"_\")[1]))\n",
    "         for node in UTG.nodes()}\n",
    "\n",
    "draw_temporal_graph(UTG,\n",
    "                     pos=pos,\n",
    "                     figsize=(4, 4),\n",
    "                     connectionstyle=\"arc3,rad=0.25\",\n",
    "                     suptitle=\"Unified Temporal Graph\")"
   ]
  },
  {
   "cell_type": "markdown",
   "metadata": {},
   "source": [
    "#### UTG → TemporalGraph  "
   ]
  },
  {
   "cell_type": "code",
   "execution_count": null,
   "metadata": {},
   "outputs": [],
   "source": [
    "tx.from_unified(UTG)"
   ]
  },
  {
   "cell_type": "markdown",
   "metadata": {},
   "source": [
    "___\n",
    "\n",
    "## Community detection\n",
    "\n",
    "As a toy example, let's first use the simplest\n",
    "[Stochastic Block Model](https://networkx.org/documentation/stable/reference/generated/networkx.generators.community.stochastic_block_model.html)\n",
    "to generate 4 graph snapshots, in which each of the 5 clusters of 5 nodes each continuously mix together over time:"
   ]
  },
  {
   "cell_type": "code",
   "execution_count": null,
   "metadata": {},
   "outputs": [],
   "source": [
    "snapshots = 4   # Temporal graphs to generate.\n",
    "clusters = 5    # Number of clusters/communities.\n",
    "order = 5       # Nodes in each cluster.\n",
    "intra = .9      # High initial probability of intra-community edges.\n",
    "inter = .1      # Low initial probability of inter-community edges.\n",
    "change = .125   # Change in intra- and inter-community edges over time.\n",
    "\n",
    "# Get probability matrix for each snapshot.\n",
    "probs = [[[\n",
    "    (intra if i == j else inter) + (t * change * (-1 if i == j else 1))\n",
    "    for j in range(clusters)]\n",
    "    for i in range(clusters)]\n",
    "    for t in range(snapshots)]\n",
    "\n",
    "# Create graphs from probabilities.\n",
    "graphs = {}\n",
    "for t in range(snapshots):\n",
    "    graphs[t] = nx.stochastic_block_model(clusters*[order], probs[t], seed=10)\n",
    "    graphs[t].name = t\n",
    "\n",
    "# Create temporal graph from snapshots.\n",
    "TG = tx.from_snapshots(graphs)"
   ]
  },
  {
   "cell_type": "markdown",
   "metadata": {},
   "source": [
    "Let's plot the graphs, with node colors representing communities and intra-community edges:"
   ]
  },
  {
   "cell_type": "code",
   "execution_count": null,
   "metadata": {},
   "outputs": [],
   "source": [
    "import matplotlib.pyplot as plt\n",
    "\n",
    "def get_edge_color(edges: list, node_color: dict):\n",
    "    return [node_color[u]\n",
    "            if node_color[u] == node_color[v]\n",
    "            else \"#00000035\"\n",
    "            for u, v in edges]\n",
    "\n",
    "c = plt.cm.tab10.colors\n",
    "\n",
    "# Node positions.\n",
    "pos = nx.circular_layout(TG.to_static())\n",
    "\n",
    "# Community ground truths.\n",
    "node_color = [c[i // clusters] for i in range(TG.temporal_order())]\n",
    "\n",
    "# Colorize intra-community edges.\n",
    "temporal_opts = {t: {\"edge_color\": get_edge_color(TG[t].edges(), node_color)}\n",
    "                 for t in range(len(TG))}\n",
    "\n",
    "# Plot snapshots with community ground truths.\n",
    "draw_temporal_graph(\n",
    "    TG,\n",
    "    pos=pos,\n",
    "    figsize=(14, 4),\n",
    "    node_color=node_color,\n",
    "    temporal_opts=temporal_opts,\n",
    "    connectionstyle=\"arc3,rad=0.1\",\n",
    "    suptitle=\"Ground truth\")"
   ]
  },
  {
   "cell_type": "markdown",
   "metadata": {},
   "source": [
    "We see the graphs are generated with the same community structure, but continuously decreasing assortativity.\n",
    "\n",
    "Let's try and retrieve these communities using a modularity optimization algorithm.\n",
    "\n",
    "> Optimizations algorithms may help with descriptive or exploratory tasks and post-hoc network\n",
    "> analysis, but lack statistical rigor for inferential purposes. See [Peixoto (2021)](https://skewed.de/tiago/posts/descriptive-inferential) for a discussion.\n"
   ]
  },
  {
   "cell_type": "markdown",
   "metadata": {},
   "source": [
    "### Modularity: on static graph\n",
    "\n",
    "The [leidenalg](https://leidenalg.readthedocs.io) package implements optimization algorithms for community detection may be applied on snapshot-based temporal graphs, allowing to better capture their underlying structure.\n",
    "\n",
    "For example, depending on the initial node community assigments (e.g., with `seed=0` below), [modularity](https://leidenalg.readthedocs.io/en/stable/reference.html#modularityvertexpartition) fails to retrieve the true communities (their ground truths) in the network:"
   ]
  },
  {
   "cell_type": "code",
   "execution_count": null,
   "metadata": {},
   "outputs": [],
   "source": [
    "import leidenalg as la\n",
    "\n",
    "membership = la.find_partition(\n",
    "    TG.to_static(\"igraph\"),\n",
    "    la.ModularityVertexPartition,\n",
    "    n_iterations=-1,\n",
    "    seed=0,\n",
    ")\n",
    "\n",
    "node_color = [c[m] for m in membership.membership]\n",
    "edge_color = get_edge_color(TG.to_static().edges(), node_color)\n",
    "\n",
    "draw_temporal_graph(\n",
    "    TG.to_static(),\n",
    "    pos=pos,\n",
    "    figsize=(4, 4),\n",
    "    node_color=node_color,\n",
    "    edge_color=edge_color,\n",
    "    connectionstyle=\"arc3,rad=0.1\",\n",
    "    suptitle=\"Communities found by modularity on static graph\")"
   ]
  },
  {
   "cell_type": "markdown",
   "metadata": {},
   "source": [
    "Although two communities are correctly retrieved (in red and green), nodes :math:`0` to :math:`4`,\n",
    "which form a fifth community in the network, are misclassified as belonging to the blue and orange\n",
    "communities.\n",
    "\n",
    "Next, let's try and exploit the network's temporal information to improve on these results."
   ]
  },
  {
   "cell_type": "markdown",
   "metadata": {},
   "source": [
    "### Modularity: on each snapshot\n",
    "\n",
    "Running the same algorithm separately on each of the generated snapshots retrieves the correct clusters only on the first graph ($t=0$).\n",
    "This is mostly due to modularity optimization expecting an assortative community structure, which is not present in the later snapshots, as they mix together.\n",
    "\n",
    "In addition, community indices (represented by their colors) are not fixed over snapshots, which makes understanding their mesoscale dynamics harder.\n",
    "This is illustrated in the plot below:"
   ]
  },
  {
   "cell_type": "code",
   "execution_count": null,
   "metadata": {},
   "outputs": [],
   "source": [
    "temporal_opts = {}\n",
    "\n",
    "for t in range(len(TG)):\n",
    "    membership = la.find_partition(\n",
    "        TG[t:t+1].to_static(\"igraph\"),\n",
    "        la.ModularityVertexPartition,\n",
    "        n_iterations=-1,\n",
    "        seed=0,\n",
    "    )\n",
    "    node_color = [c[m] for m in membership.membership]\n",
    "    edge_color = get_edge_color(TG[t].edges(), node_color)\n",
    "    temporal_opts[t] = {\"node_color\": node_color, \"edge_color\": edge_color}\n",
    "\n",
    "draw_temporal_graph(\n",
    "    TG,\n",
    "    pos=pos,\n",
    "    figsize=(14, 4),\n",
    "    temporal_opts=temporal_opts,\n",
    "    connectionstyle=\"arc3,rad=0.1\",\n",
    "    suptitle=\"Communities found by modularity on snapshots\")"
   ]
  },
  {
   "cell_type": "markdown",
   "metadata": {},
   "source": [
    "Not only the results of subsequent snapshots are suboptimal, it is also particularly hard to track\n",
    "the evolution of communities over time to analyze a network's temporal mesoscale dynamics.\n"
   ]
  },
  {
   "cell_type": "markdown",
   "metadata": {},
   "source": [
    "### Modularity: on temporal graph\n",
    "\n",
    "[Coupling temporal nodes](https://leidenalg.readthedocs.io/en/stable/multiplex.html#slices-to-layers) allows the same algorithm to correctly retrieve the ground truths in this case, while at the same time maintaining community indices consistent over time, as seen below:"
   ]
  },
  {
   "cell_type": "code",
   "execution_count": null,
   "metadata": {},
   "outputs": [],
   "source": [
    "temporal_opts = {}\n",
    "\n",
    "temporal_membership, improvement = la.find_partition_temporal(\n",
    "    TG.to_snapshots(\"igraph\"),\n",
    "    la.ModularityVertexPartition,\n",
    "    interslice_weight=1.0,\n",
    "    n_iterations=-1,\n",
    "    seed=0,\n",
    "    vertex_id_attr=\"_nx_name\"\n",
    ")\n",
    "\n",
    "for t in range(len(TG)):\n",
    "    node_color = [c[m] for m in temporal_membership[t]]\n",
    "    edge_color = get_edge_color(TG[t].edges(), node_color)\n",
    "    temporal_opts[t] = {\"node_color\": node_color, \"edge_color\": edge_color}\n",
    "\n",
    "draw_temporal_graph(\n",
    "    TG,\n",
    "    figsize=(14, 4),\n",
    "    pos=pos,\n",
    "    temporal_opts=temporal_opts,\n",
    "    connectionstyle=\"arc3,rad=0.1\",\n",
    "    suptitle=\"Communities found by modularity on temporal graph\")"
   ]
  },
  {
   "cell_type": "markdown",
   "metadata": {},
   "source": [
    "This method is particularly useful to track communities over time, as it allows to maintain the\n",
    "same community indices across snapshots, potentially contributing to the study of their dynamics.\n",
    "\n",
    "Although very simple, this example showcased how considering a network's temporal information can benefit\n",
    "its analysis, as well as help to better understand and visualize its mesoscale structures."
   ]
  },
  {
   "cell_type": "markdown",
   "metadata": {},
   "source": [
    "___\n",
    "\n",
    "## References\n",
    "\n",
    "- [Deep Graph Library](https://www.dgl.ai/)\n",
    "- [graph-tool](https://graph-tool.skewed.de/)\n",
    "- [igraph](https://igraph.org/python/)\n",
    "- [Leiden](https://leidenalg.readthedocs.io)\n",
    "- [NetworKit](https://networkit.github.io/)\n",
    "- [NetworkX](https://networkx.github.io)\n",
    "- [Pandas](https://pandas.pydata.org/)\n",
    "- [PyTorch Geometric](https://pytorch-geometric.readthedocs.io)\n",
    "- [Teneto](https://teneto.readthedocs.io)"
   ]
  }
 ],
 "metadata": {
  "kernelspec": {
   "display_name": "Python 3 (ipykernel)",
   "language": "python",
   "name": "python3"
  },
  "language_info": {
   "codemirror_mode": {
    "name": "ipython",
    "version": 3
   },
   "file_extension": ".py",
   "mimetype": "text/x-python",
   "name": "python",
   "nbconvert_exporter": "python",
   "pygments_lexer": "ipython3",
   "version": "3.11.5"
  }
 },
 "nbformat": 4,
 "nbformat_minor": 2
}

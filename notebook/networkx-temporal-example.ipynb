{
 "cells": [
  {
   "cell_type": "markdown",
   "metadata": {},
   "source": [
    "# [networkx-temporal](https://pypi.org/project/networkx-temporal/)\n",
    "\n",
    "Python package to build and manipulate temporal NetworkX graphs."
   ]
  },
  {
   "cell_type": "code",
   "execution_count": null,
   "metadata": {},
   "outputs": [],
   "source": [
    "!pip install -q leidenalg matplotlib networkx networkx-temporal python-igraph"
   ]
  },
  {
   "cell_type": "code",
   "execution_count": null,
   "metadata": {},
   "outputs": [],
   "source": [
    "%load_ext autoreload\n",
    "%autoreload 2\n",
    "import networkx as nx\n",
    "import networkx_temporal as tx\n",
    "from networkx_temporal.example.draw import draw_temporal_graph"
   ]
  },
  {
   "cell_type": "markdown",
   "metadata": {},
   "source": [
    "___\n",
    "\n",
    "## Basics"
   ]
  },
  {
   "cell_type": "markdown",
   "metadata": {},
   "source": [
    "### Build temporal graph\n",
    "\n",
    "The `TemporalGraph` class extends NetworkX to temporal graphs, allowing easy manipulation of its internal data structure:"
   ]
  },
  {
   "cell_type": "code",
   "execution_count": null,
   "metadata": {},
   "outputs": [],
   "source": [
    "TG = tx.TemporalGraph(directed=True)  # multigraph=True\n",
    "\n",
    "TG.add_edge(\"a\", \"b\", time=0)\n",
    "TG.add_edge(\"c\", \"b\", time=1)\n",
    "TG.add_edge(\"d\", \"c\", time=2)\n",
    "TG.add_edge(\"d\", \"e\", time=2)\n",
    "TG.add_edge(\"a\", \"c\", time=2)\n",
    "TG.add_edge(\"f\", \"e\", time=3)\n",
    "TG.add_edge(\"f\", \"a\", time=3)\n",
    "TG.add_edge(\"f\", \"b\", time=3)\n",
    "\n",
    "TG = TG.slice(attr=\"time\")\n",
    "\n",
    "print(TG)"
   ]
  },
  {
   "cell_type": "code",
   "execution_count": null,
   "metadata": {},
   "outputs": [],
   "source": [
    "print(f\"t = {len(TG)} time steps\\n\"\n",
    "      f\"V = {TG.order()} nodes ({TG.temporal_order()} unique, {TG.total_nodes()} total)\\n\"\n",
    "      f\"E = {TG.size()} edges ({TG.temporal_size()} unique, {TG.total_edges()} total)\")"
   ]
  },
  {
   "cell_type": "code",
   "execution_count": null,
   "metadata": {},
   "outputs": [],
   "source": [
    "draw_temporal_graph(TG, figsize=(8, 2))"
   ]
  },
  {
   "cell_type": "markdown",
   "metadata": {},
   "source": [
    "### Slice into temporal bins\n",
    "\n",
    "Once initialized, a specified number of bins can be returned in a new object of the same type using `slice`:"
   ]
  },
  {
   "cell_type": "code",
   "execution_count": null,
   "metadata": {},
   "outputs": [],
   "source": [
    "draw_temporal_graph(TG.slice(bins=2), figsize=(4, 2))"
   ]
  },
  {
   "cell_type": "markdown",
   "metadata": {},
   "source": [
    "By default, created bins are composed of non-overlapping edges and might have uneven order and size.\n",
    "\n",
    "To balance them, pass `qcut=True`:"
   ]
  },
  {
   "cell_type": "code",
   "execution_count": null,
   "metadata": {},
   "outputs": [],
   "source": [
    "draw_temporal_graph(TG.slice(bins=2, qcut=True), figsize=(4, 2))"
   ]
  },
  {
   "cell_type": "markdown",
   "metadata": {},
   "source": [
    "> Note that in some cases it may not be able to split the graph into the number of bins requested, returning the maximum possible number instead.\n",
    "> Forcing a number of bins can be achieved by setting `rank_first=True` to balance snapshots considering the order of appearence of nodes or edges."
   ]
  },
  {
   "cell_type": "markdown",
   "metadata": {},
   "source": [
    "### Convert to directed or undirected\n",
    "\n",
    "We can easily convert the edge directions by calling the same methods available from `networkx`:"
   ]
  },
  {
   "cell_type": "code",
   "execution_count": null,
   "metadata": {},
   "outputs": [],
   "source": [
    "TG.to_undirected()"
   ]
  },
  {
   "cell_type": "code",
   "execution_count": null,
   "metadata": {},
   "outputs": [],
   "source": [
    "TG.to_directed()"
   ]
  },
  {
   "cell_type": "markdown",
   "metadata": {},
   "source": [
    "___\n",
    "\n",
    "## Common metrics\n",
    "\n",
    "All methods implemented by `networkx`, e.g., `degree`, are also available to be executed sequentially on the stored time slices.\n",
    "\n",
    "A few additional methods that consider all time slices are also implemented for convenience, e.g., `temporal_degree` and `temporal_neighbors`.\n",
    "\n",
    "### Degree centrality"
   ]
  },
  {
   "cell_type": "code",
   "execution_count": null,
   "metadata": {},
   "outputs": [],
   "source": [
    "TG.degree()\n",
    "# TG.in_degree()\n",
    "# TG.out_degree()"
   ]
  },
  {
   "cell_type": "code",
   "execution_count": null,
   "metadata": {},
   "outputs": [],
   "source": [
    "TG.temporal_degree()\n",
    "# TG.temporal_in_degree()\n",
    "# TG.temporal_out_degree()"
   ]
  },
  {
   "cell_type": "markdown",
   "metadata": {},
   "source": [
    "Or to obtain the degree of a specific node:"
   ]
  },
  {
   "cell_type": "code",
   "execution_count": null,
   "metadata": {},
   "outputs": [],
   "source": [
    "TG[0].degree(\"a\")\n",
    "# TG[0].in_degree(\"a\")\n",
    "# TG[0].out_degree(\"a\")"
   ]
  },
  {
   "cell_type": "code",
   "execution_count": null,
   "metadata": {},
   "outputs": [],
   "source": [
    "TG.temporal_degree(\"a\")\n",
    "# TG.temporal_in_degree(\"a\")\n",
    "# TG.temporal_out_degree(\"a\")"
   ]
  },
  {
   "cell_type": "markdown",
   "metadata": {},
   "source": [
    "### Node neighborhoods"
   ]
  },
  {
   "cell_type": "code",
   "execution_count": null,
   "metadata": {},
   "outputs": [],
   "source": [
    "TG.neighbors(\"c\")"
   ]
  },
  {
   "cell_type": "markdown",
   "metadata": {},
   "source": [
    "To obtain the neighborhood of a node considering all time steps, use the method `temporal_neighbors`:"
   ]
  },
  {
   "cell_type": "code",
   "execution_count": null,
   "metadata": {},
   "outputs": [],
   "source": [
    "TG.temporal_neighbors(\"c\")"
   ]
  },
  {
   "cell_type": "markdown",
   "metadata": {},
   "source": [
    "### Order and size\n",
    "\n",
    "To get the number of nodes and edges in each step:"
   ]
  },
  {
   "cell_type": "code",
   "execution_count": null,
   "metadata": {},
   "outputs": [],
   "source": [
    "print(\"Order:\", TG.order())\n",
    "print(\"Size:\", TG.size())"
   ]
  },
  {
   "cell_type": "markdown",
   "metadata": {},
   "source": [
    "#### Temporal order and size\n",
    "\n",
    "The temporal order and size are respectively defined as the length of `TG.temporal_nodes()`, i.e., unique nodes in all time steps, and the length of `TG.temporal_size()`, i.e., sum of edges or interactions across all time steps."
   ]
  },
  {
   "cell_type": "code",
   "execution_count": null,
   "metadata": {},
   "outputs": [],
   "source": [
    "print(\"Temporal nodes:\", TG.temporal_order())\n",
    "print(\"Temporal edges:\", TG.temporal_size())"
   ]
  },
  {
   "cell_type": "markdown",
   "metadata": {},
   "source": [
    "#### Total number of nodes and edges\n",
    "\n",
    "To get the actual number of nodes and edges across all time steps:\n",
    "\n",
    "> Note that the temporal size of a graph will always be equal to its total number of edges, i.e., `TG.temporal_size() == TG.total_edges()`."
   ]
  },
  {
   "cell_type": "code",
   "execution_count": null,
   "metadata": {},
   "outputs": [],
   "source": [
    "print(\"Total nodes:\", TG.total_nodes())  # TG.total_nodes() != TG.temporal_order()\n",
    "print(\"Total edges:\", TG.total_edges())  # TG.total_edges() == TG.temporal_size()"
   ]
  },
  {
   "cell_type": "markdown",
   "metadata": {},
   "source": [
    "___\n",
    "\n",
    "## Convert from static to temporal graph\n",
    "\n",
    "Static graphs can carry temporal information in either the node- or edge-level attributes. \n",
    "\n",
    "Slicing a graph into bins usually result in the same number of edges, but a higher number of nodes, as they may appear in more than one snapshot.\n",
    "\n",
    "In the example below, we create a static multigraph in which both nodes and edges are attributed with the time step `t` in which they are observed:"
   ]
  },
  {
   "cell_type": "code",
   "execution_count": null,
   "metadata": {},
   "outputs": [],
   "source": [
    "G = nx.MultiDiGraph()\n",
    "\n",
    "G.add_nodes_from([\n",
    "    (\"a\", {\"time\": 0}),\n",
    "    (\"b\", {\"time\": 0}),\n",
    "    (\"c\", {\"time\": 1}),\n",
    "    (\"d\", {\"time\": 2}),\n",
    "    (\"e\", {\"time\": 3}),\n",
    "    (\"f\", {\"time\": 3}),\n",
    "])\n",
    "\n",
    "G.add_edges_from([\n",
    "    (\"a\", \"b\", {\"time\": 0}),\n",
    "    (\"c\", \"b\", {\"time\": 1}),\n",
    "    (\"d\", \"c\", {\"time\": 2}),\n",
    "    (\"d\", \"e\", {\"time\": 2}),\n",
    "    (\"a\", \"c\", {\"time\": 2}),\n",
    "    (\"f\", \"e\", {\"time\": 3}),\n",
    "    (\"f\", \"a\", {\"time\": 3}),\n",
    "    (\"f\", \"b\", {\"time\": 3}),\n",
    "])\n",
    "\n",
    "print(G)"
   ]
  },
  {
   "cell_type": "markdown",
   "metadata": {},
   "source": [
    "### Node-level time attributes\n",
    "\n",
    "Converting a static graph with node-level temporal data to a temporal graph object (`node_level` considers the source node's time by default when slicing edges):"
   ]
  },
  {
   "cell_type": "code",
   "execution_count": null,
   "metadata": {},
   "outputs": [],
   "source": [
    "TG = tx.from_static(G).slice(attr=\"time\", attr_level=\"node\", node_level=\"source\", bins=None, qcut=None)\n",
    "draw_temporal_graph(TG, figsize=(8, 2))"
   ]
  },
  {
   "cell_type": "markdown",
   "metadata": {},
   "source": [
    "Note that considering node-level attributes resulted in placing the edge `(a, c, 2)` in $t=0$ instead, as the source node `a` attribute is set to `t=0`:"
   ]
  },
  {
   "cell_type": "code",
   "execution_count": null,
   "metadata": {},
   "outputs": [],
   "source": [
    "G.nodes(data=\"time\")[\"a\"]"
   ]
  },
  {
   "cell_type": "markdown",
   "metadata": {},
   "source": [
    "### Edge-level time attributes\n",
    "\n",
    "Converting a static graph with edge-level temporal data to a temporal graph object (edge's time applies to both source and target nodes):"
   ]
  },
  {
   "cell_type": "code",
   "execution_count": null,
   "metadata": {},
   "outputs": [],
   "source": [
    "TG = tx.from_static(G).slice(attr=\"time\", attr_level=\"edge\", bins=None, qcut=None)\n",
    "draw_temporal_graph(TG, figsize=(8, 2))"
   ]
  },
  {
   "cell_type": "markdown",
   "metadata": {},
   "source": [
    "In this case, considering edge-level attributes results in placing the edge `(a, c, 2)` in $t=2$, as expected."
   ]
  },
  {
   "cell_type": "markdown",
   "metadata": {},
   "source": [
    "___\n",
    "\n",
    "## Transform temporal graph\n",
    "\n",
    "Once a temporal graph is instantiated, the following methods allow returning static graphs, snapshots, events or unified representations.\n",
    "\n",
    "Due to the way the underlying data is represented, some of these objects (i.e., those with unique nodes) do not allow dynamic node attributes.\n",
    "\n",
    "> Note that the total number of nodes $V$ and edges $E$ of the returned object might differ from the number of temporal nodes $V_T$ and edges $E_T$.\n",
    "\n",
    "| Method | Order | Size | Dynamic node attributes | Dynamic edge attributes |\n",
    "| --- | :---: | :---: | :---: | :---: |\n",
    "| `to_static` | $V = V_T$ | $E = E_T$ | ❌ | ✅ |\n",
    "| `to_snapshots` | $V \\ge V_T$ | $E = E_T$ | ✅ | ✅ |\n",
    "| `to_events` | $V = V_T$ | $E = E_T$ | ❌ | ❌ |\n",
    "| `to_unified` | $V \\ge V_T$ | $E \\ge E_T$ | ✅ | ✅ |\n",
    "\n",
    "### Convert to different object type\n",
    "\n",
    "Temporal graphs may be converted to a different object type by calling `convert` or passing `to={parameter}` to the above methods.\n",
    "\n",
    "| Format | Parameter (Package) | Parameter (Alias) |\n",
    "| --- | :---: | :---: |\n",
    "| [Deep Graph Library](https://www.dgl.ai/) | `dgl` | -\n",
    "| [graph-tool](https://graph-tool.skewed.de/) | `graph_tool` | `gt`\n",
    "| [igraph](https://igraph.org/python/) | `igraph` | `ig`\n",
    "| [NetworKit](https://networkit.github.io/) | `networkit` | `nk`\n",
    "| [PyTorch Geometric](https://pytorch-geometric.readthedocs.io) | `torch_geometric` | `pyg`\n",
    "| [Teneto](https://teneto.readthedocs.io) | `teneto` | -\n"
   ]
  },
  {
   "cell_type": "code",
   "execution_count": null,
   "metadata": {},
   "outputs": [],
   "source": [
    "tx.convert(G, \"igraph\")"
   ]
  },
  {
   "cell_type": "markdown",
   "metadata": {},
   "source": [
    "### Static graph\n",
    "\n",
    "Builds a static or flattened graph containing all the edges found at each time step:"
   ]
  },
  {
   "cell_type": "code",
   "execution_count": null,
   "metadata": {},
   "outputs": [],
   "source": [
    "G = TG.to_static()\n",
    "draw_temporal_graph(G, suptitle=\"Static Graph\")"
   ]
  },
  {
   "cell_type": "markdown",
   "metadata": {},
   "source": [
    "### Snapshot-based temporal graph\n",
    "\n",
    "The snapshot-based temporal graph (STG) is a list of graphs directly accessible under `data` in the temporal graph object:"
   ]
  },
  {
   "cell_type": "code",
   "execution_count": null,
   "metadata": {},
   "outputs": [],
   "source": [
    "STG = TG.to_snapshots()"
   ]
  },
  {
   "cell_type": "markdown",
   "metadata": {},
   "source": [
    "### Event-based temporal graph\n",
    "\n",
    "An event-based temporal graph (ETG) is a sequence of 3- or 4-tuple edge-based events.\n",
    "\n",
    "* 3-tuples ($u, v, t$), where elements are the source node, target node, and time step of the observed event (also known as a stream graph);\n",
    "\n",
    "* 4-tuples ($u, v, t, \\epsilon$), where $\\epsilon$ is either a positive (1) or negative (-1) unity representing edge addition and deletion events, respectively.\n",
    "\n",
    "Depending on the temporal graph data, one of these may allow a more compact representation than the other."
   ]
  },
  {
   "cell_type": "code",
   "execution_count": null,
   "metadata": {},
   "outputs": [],
   "source": [
    "ETG = TG.to_events()  # stream=True (default)\n",
    "ETG"
   ]
  },
  {
   "cell_type": "code",
   "execution_count": null,
   "metadata": {},
   "outputs": [],
   "source": [
    "ETG = TG.to_events(stream=False)\n",
    "ETG"
   ]
  },
  {
   "cell_type": "markdown",
   "metadata": {},
   "source": [
    "### Unified temporal graph\n",
    "\n",
    "The unified temporal graph (UTG) is a single graph that contains the original data plus proxy nodes and edge couplings connecting sequential temporal nodes."
   ]
  },
  {
   "cell_type": "code",
   "execution_count": null,
   "metadata": {},
   "outputs": [],
   "source": [
    "UTG = TG.to_unified(add_couplings=True)\n",
    "print(UTG)"
   ]
  },
  {
   "cell_type": "code",
   "execution_count": null,
   "metadata": {},
   "outputs": [],
   "source": [
    "nodes = sorted(TG.temporal_nodes())\n",
    "pos = {node: (nodes.index(node.rsplit(\"_\")[0]), -int(node.rsplit(\"_\")[1])) for node in UTG.nodes()}\n",
    "draw_temporal_graph(UTG, pos=pos, figsize=(4, 4), connectionstyle=\"arc3,rad=0.25\", suptitle=\"Unified Temporal Graph\")"
   ]
  },
  {
   "cell_type": "markdown",
   "metadata": {},
   "source": [
    "### Convert back to TemporalGraph object\n",
    "\n",
    "Functions to convert a newly created STG, ETG, or UTG back to a temporal graph object are also implemented."
   ]
  },
  {
   "cell_type": "code",
   "execution_count": null,
   "metadata": {},
   "outputs": [],
   "source": [
    "tx.from_snapshots(STG)"
   ]
  },
  {
   "cell_type": "code",
   "execution_count": null,
   "metadata": {},
   "outputs": [],
   "source": [
    "tx.from_events(ETG, directed=True, multigraph=True)"
   ]
  },
  {
   "cell_type": "code",
   "execution_count": null,
   "metadata": {},
   "outputs": [],
   "source": [
    "tx.from_unified(UTG)"
   ]
  },
  {
   "cell_type": "markdown",
   "metadata": {},
   "source": [
    "___\n",
    "\n",
    "## Community detection\n",
    "\n",
    "As a toy example, let's first use a [Stochastic Block Model](https://networkx.org/documentation/stable/reference/generated/networkx.generators.community.stochastic_block_model.html) to generate 4 snapshots, in which each of the 5 clusters of 4 nodes each continuously mix together:"
   ]
  },
  {
   "cell_type": "code",
   "execution_count": null,
   "metadata": {},
   "outputs": [],
   "source": [
    "snapshots = 4   # Temporal graphs to generate.\n",
    "clusters = 5    # Number of clusters/communities.\n",
    "order = 5       # Nodes in each cluster.\n",
    "intra = .9      # High initial probability of intra-community edges.\n",
    "inter = .1      # Low initial probability of inter-community edges.\n",
    "change = .125   # Change in intra- and inter-community edges over time.\n",
    "\n",
    "# Get probability matrix for each snapshot.\n",
    "probs = [[[\n",
    "    (intra if i == j else inter) + (t * change * (-1 if i == j else 1))\n",
    "    for j in range(clusters)]\n",
    "    for i in range(clusters)]\n",
    "    for t in range(snapshots)]\n",
    "\n",
    "# Create graphs from probabilities.\n",
    "graphs = {}\n",
    "for t in range(snapshots):\n",
    "    graphs[t] = nx.stochastic_block_model(clusters*[order], probs[t], seed=10)\n",
    "    graphs[t].name = t\n",
    "\n",
    "# Create temporal graph from snapshots.\n",
    "TG = tx.from_snapshots(graphs)"
   ]
  },
  {
   "cell_type": "markdown",
   "metadata": {},
   "source": [
    "Let's plot the temporal graph snapshots, with colors representing the ground truths and highlighting intra-community edges."
   ]
  },
  {
   "cell_type": "code",
   "execution_count": null,
   "metadata": {},
   "outputs": [],
   "source": [
    "import matplotlib.pyplot as plt\n",
    "\n",
    "def get_edge_color(edges: list, node_color: dict):\n",
    "    return [node_color[u] if node_color[u] == node_color[v] else \"#00000035\" for u, v in edges]\n",
    "\n",
    "c = plt.cm.tab10.colors\n",
    "\n",
    "# Node positions.\n",
    "pos = nx.circular_layout(TG.to_static())\n",
    "\n",
    "# Community ground truths.\n",
    "node_color = [c[i // clusters] for i in range(TG.temporal_order())]\n",
    "\n",
    "# Colorize intra-community edges.\n",
    "temporal_opts = {t: {\"edge_color\": get_edge_color(TG[t].edges(), node_color)} for t in range(len(TG))}\n",
    "\n",
    "# Plot snapshots with community ground truths.\n",
    "draw_temporal_graph(\n",
    "    TG,\n",
    "    pos=pos,\n",
    "    figsize=(14, 4),\n",
    "    node_color=node_color,\n",
    "    temporal_opts=temporal_opts,\n",
    "    connectionstyle=\"arc3,rad=0.1\",\n",
    "    suptitle=\"Ground truth\")"
   ]
  },
  {
   "cell_type": "markdown",
   "metadata": {},
   "source": [
    "### Modularity: on static graph\n",
    "\n",
    "The [leidenalg](https://leidenalg.readthedocs.io) package implements optimization algorithms for community detection that may be applied on snapshot-based temporal graphs.\n",
    "\n",
    "Such algorithms may help with descriptive or exploratory tasks and post-hoc network analysis, although they lack statistical rigor for inference purposes.\n",
    "\n",
    "For example, depending on the initial node community assigments (e.g., with `seed=0` below), [modularity](https://leidenalg.readthedocs.io/en/stable/reference.html#modularityvertexpartition) fails to retrieve the true communities:"
   ]
  },
  {
   "cell_type": "code",
   "execution_count": null,
   "metadata": {},
   "outputs": [],
   "source": [
    "import leidenalg as la\n",
    "\n",
    "membership = la.find_partition(\n",
    "    TG.to_static(\"igraph\"),\n",
    "    la.ModularityVertexPartition,\n",
    "    n_iterations=-1,\n",
    "    seed=0,\n",
    ")\n",
    "\n",
    "node_color = [c[m] for m in membership.membership]\n",
    "edge_color = get_edge_color(TG.to_static().edges(), node_color)\n",
    "\n",
    "draw_temporal_graph(\n",
    "    TG.to_static(),\n",
    "    pos=pos,\n",
    "    figsize=(4, 4),\n",
    "    node_color=node_color,\n",
    "    edge_color=edge_color,\n",
    "    connectionstyle=\"arc3,rad=0.1\",\n",
    "    suptitle=\"Communities found by modularity on static graph\")"
   ]
  },
  {
   "cell_type": "markdown",
   "metadata": {},
   "source": [
    "### Modularity: on each snapshot\n",
    "\n",
    "Running the same algorithm separately on each of the generated snapshots retrieves the correct clusters only on the first ($t=0$).\n",
    "\n",
    "In addition, community indices/colors along snapshots are not fixed, which makes understanding their mesoscale dynamics harder."
   ]
  },
  {
   "cell_type": "code",
   "execution_count": null,
   "metadata": {},
   "outputs": [],
   "source": [
    "temporal_opts = {}\n",
    "\n",
    "for t in range(len(TG)):\n",
    "    membership = la.find_partition(\n",
    "        TG[t:t+1].to_static(\"igraph\"),\n",
    "        la.ModularityVertexPartition,\n",
    "        n_iterations=-1,\n",
    "        seed=0,\n",
    "    )\n",
    "    node_color = [c[m] for m in membership.membership]\n",
    "    edge_color = get_edge_color(TG[t].edges(), node_color)\n",
    "    temporal_opts[t] = {\"node_color\": node_color, \"edge_color\": edge_color}\n",
    "\n",
    "draw_temporal_graph(\n",
    "    TG,\n",
    "    pos=pos,\n",
    "    figsize=(14, 4),\n",
    "    temporal_opts=temporal_opts,\n",
    "    connectionstyle=\"arc3,rad=0.1\",\n",
    "    suptitle=\"Communities found by modularity on snapshots\")"
   ]
  },
  {
   "cell_type": "markdown",
   "metadata": {},
   "source": [
    "### Modularity: on temporal graph\n",
    "\n",
    "[Coupling temporal nodes](https://leidenalg.readthedocs.io/en/stable/multiplex.html#slices-to-layers) allows the same algorithm to correctly retrieve the ground truths in this case, and maintain community indices/colors fixed.\n",
    "\n",
    "> Note that the `interslice_weight` among temporal nodes in a sequence of snapshots defaults to `1.0`, but may be adjusted accordingly."
   ]
  },
  {
   "cell_type": "code",
   "execution_count": null,
   "metadata": {},
   "outputs": [],
   "source": [
    "temporal_opts = {}\n",
    "\n",
    "temporal_membership, improvement = la.find_partition_temporal(\n",
    "    TG.to_snapshots(\"igraph\"),\n",
    "    la.ModularityVertexPartition,\n",
    "    interslice_weight=1.0,\n",
    "    n_iterations=-1,\n",
    "    seed=0,\n",
    "    vertex_id_attr=\"_nx_name\"\n",
    ")\n",
    "\n",
    "for t in range(len(TG)):\n",
    "    node_color = [c[m] for m in membership.membership]\n",
    "    edge_color = get_edge_color(TG[t].edges(), node_color)\n",
    "    temporal_opts[t] = {\"node_color\": node_color, \"edge_color\": edge_color}\n",
    "\n",
    "draw_temporal_graph(\n",
    "    TG,\n",
    "    figsize=(14, 4),\n",
    "    pos=pos,\n",
    "    temporal_opts=temporal_opts,\n",
    "    connectionstyle=\"arc3,rad=0.1\",\n",
    "    suptitle=\"Communities found by modularity on temporal graph\")"
   ]
  },
  {
   "cell_type": "markdown",
   "metadata": {},
   "source": [
    "___\n",
    "\n",
    "## References\n",
    "\n",
    "- [Deep Graph Library](https://www.dgl.ai/)\n",
    "- [graph-tool](https://graph-tool.skewed.de/)\n",
    "- [igraph](https://igraph.org/python/)\n",
    "- [Leiden](https://leidenalg.readthedocs.io)\n",
    "- [NetworKit](https://networkit.github.io/)\n",
    "- [NetworkX](https://networkx.github.io)\n",
    "- [Pandas](https://pandas.pydata.org/)\n",
    "- [PyTorch Geometric](https://pytorch-geometric.readthedocs.io)\n",
    "- [Teneto](https://teneto.readthedocs.io)"
   ]
  }
 ],
 "metadata": {
  "kernelspec": {
   "display_name": "Python 3 (ipykernel)",
   "language": "python",
   "name": "python3"
  },
  "language_info": {
   "codemirror_mode": {
    "name": "ipython",
    "version": 3
   },
   "file_extension": ".py",
   "mimetype": "text/x-python",
   "name": "python",
   "nbconvert_exporter": "python",
   "pygments_lexer": "ipython3",
   "version": "3.8.19"
  }
 },
 "nbformat": 4,
 "nbformat_minor": 2
}
